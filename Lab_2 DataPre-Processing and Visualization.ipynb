{
 "cells": [
  {
   "cell_type": "code",
   "execution_count": 4,
   "id": "2392d5ce",
   "metadata": {},
   "outputs": [
    {
     "name": "stdout",
     "output_type": "stream",
     "text": [
      "    Manufacturer              Model  Sales in thousands 4-year resale value  \\\n",
      "0  Acura          Integra                        16.919               16.36   \n",
      "1  Acura          TL                             39.384              19.875   \n",
      "2  Acura          CL                             14.114              18.225   \n",
      "3  Acura          RL                              8.588              29.725   \n",
      "4  Audi           A4                             20.397              22.255   \n",
      "\n",
      "  Vehicle type Price in thousands Engine size Horsepower Wheelbase Width  \\\n",
      "0    Passenger               21.5         1.8        140     101.2  67.3   \n",
      "1    Passenger               28.4         3.2        225     108.1  70.3   \n",
      "2    Passenger                  .         3.2        225     106.9  70.6   \n",
      "3    Passenger                 42         3.5        210     114.6  71.4   \n",
      "4    Passenger              23.99         1.8        150     102.6  68.2   \n",
      "\n",
      "  Length Curb weight Fuel capacity Fuel efficiency Latest Launch  \n",
      "0  172.4       2.639          13.2              28      2-Feb-14  \n",
      "1  192.9       3.517          17.2              25      6-Mar-15  \n",
      "2    192        3.47          17.2              26      1-Apr-14  \n",
      "3  196.6        3.85            18              22      3-Oct-15  \n",
      "4    178       2.998          16.4              27     10-Aug-15  \n"
     ]
    }
   ],
   "source": [
    "import pandas as pd\n",
    "df = pd.read_csv('Car_sales.csv')\n",
    "print(df.head())"
   ]
  },
  {
   "cell_type": "code",
   "execution_count": 5,
   "id": "fac3802e",
   "metadata": {},
   "outputs": [
    {
     "name": "stdout",
     "output_type": "stream",
     "text": [
      "Number of attributes:  15\n"
     ]
    }
   ],
   "source": [
    "num_attributes = df.shape[1]\n",
    "print(\"Number of attributes: \", num_attributes)"
   ]
  },
  {
   "cell_type": "code",
   "execution_count": 7,
   "id": "6092cce9",
   "metadata": {},
   "outputs": [
    {
     "name": "stdout",
     "output_type": "stream",
     "text": [
      "DataFrame Info:\n",
      "<class 'pandas.core.frame.DataFrame'>\n",
      "RangeIndex: 157 entries, 0 to 156\n",
      "Data columns (total 15 columns):\n",
      " #   Column               Non-Null Count  Dtype  \n",
      "---  ------               --------------  -----  \n",
      " 0   Manufacturer         157 non-null    object \n",
      " 1   Model                157 non-null    object \n",
      " 2   Sales in thousands   157 non-null    float64\n",
      " 3   4-year resale value  157 non-null    object \n",
      " 4   Vehicle type         157 non-null    object \n",
      " 5   Price in thousands   157 non-null    object \n",
      " 6   Engine size          157 non-null    object \n",
      " 7   Horsepower           157 non-null    object \n",
      " 8   Wheelbase            157 non-null    object \n",
      " 9   Width                157 non-null    object \n",
      " 10  Length               157 non-null    object \n",
      " 11  Curb weight          157 non-null    object \n",
      " 12  Fuel capacity        157 non-null    object \n",
      " 13  Fuel efficiency      157 non-null    object \n",
      " 14  Latest Launch        157 non-null    object \n",
      "dtypes: float64(1), object(14)\n",
      "memory usage: 18.5+ KB\n",
      "None\n",
      "<class 'pandas.core.frame.DataFrame'>\n",
      "RangeIndex: 157 entries, 0 to 156\n",
      "Data columns (total 15 columns):\n",
      " #   Column               Non-Null Count  Dtype  \n",
      "---  ------               --------------  -----  \n",
      " 0   Manufacturer         157 non-null    object \n",
      " 1   Model                157 non-null    object \n",
      " 2   Sales in thousands   157 non-null    float64\n",
      " 3   4-year resale value  157 non-null    object \n",
      " 4   Vehicle type         157 non-null    object \n",
      " 5   Price in thousands   157 non-null    object \n",
      " 6   Engine size          157 non-null    object \n",
      " 7   Horsepower           157 non-null    object \n",
      " 8   Wheelbase            157 non-null    object \n",
      " 9   Width                157 non-null    object \n",
      " 10  Length               157 non-null    object \n",
      " 11  Curb weight          157 non-null    object \n",
      " 12  Fuel capacity        157 non-null    object \n",
      " 13  Fuel efficiency      157 non-null    object \n",
      " 14  Latest Launch        157 non-null    object \n",
      "dtypes: float64(1), object(14)\n",
      "memory usage: 18.5+ KB\n"
     ]
    }
   ],
   "source": [
    "import pandas as pd\n",
    "df = pd.read_csv(\"Car_sales.csv\")\n",
    "print(\"DataFrame Info:\")\n",
    "print(df.info())\n",
    "df.info()"
   ]
  },
  {
   "cell_type": "code",
   "execution_count": 2,
   "id": "5f8fad52",
   "metadata": {},
   "outputs": [
    {
     "name": "stdout",
     "output_type": "stream",
     "text": [
      "Numbers of rows: 157\n",
      "Number of columns: 15\n"
     ]
    }
   ],
   "source": [
    "import pandas as pd\n",
    "df = pd.read_csv(\"Car_sales.csv\")\n",
    "num_rows, num_columns = df.shape\n",
    "print(\"Numbers of rows:\",num_rows)\n",
    "print(\"Number of columns:\", num_columns)\n"
   ]
  },
  {
   "cell_type": "code",
   "execution_count": 3,
   "id": "a588215f",
   "metadata": {},
   "outputs": [
    {
     "name": "stdout",
     "output_type": "stream",
     "text": [
      "157\n",
      "15\n"
     ]
    }
   ],
   "source": [
    "print(df.shape[0])\n",
    "print(df.shape[1])"
   ]
  },
  {
   "cell_type": "code",
   "execution_count": 5,
   "id": "07d2ad2b",
   "metadata": {},
   "outputs": [
    {
     "name": "stdout",
     "output_type": "stream",
     "text": [
      "Number of rows before removing duplicates: 157\n",
      "Number of rows after removing duplicates: 157\n"
     ]
    }
   ],
   "source": [
    "#Duplicates:\n",
    "#df.drop_duplicates()\n",
    "\n",
    "df_cleaned = df.drop_duplicates()\n",
    "print(\"Number of rows before removing duplicates:\",df.shape[0])\n",
    "print(\"Number of rows after removing duplicates:\",df_cleaned.shape[0])"
   ]
  },
  {
   "cell_type": "code",
   "execution_count": 7,
   "id": "9dfaf29b",
   "metadata": {},
   "outputs": [
    {
     "name": "stdout",
     "output_type": "stream",
     "text": [
      "Summary Statistics for Numerical Variables:\n",
      "       Sales in thousands\n",
      "count          157.000000\n",
      "mean            52.998076\n",
      "std             68.029422\n",
      "min              0.110000\n",
      "25%             14.114000\n",
      "50%             29.450000\n",
      "75%             67.956000\n",
      "max            540.561000\n"
     ]
    }
   ],
   "source": [
    "#Print Summary Statistics for Numerical Variables\n",
    "\n",
    "print(\"Summary Statistics for Numerical Variables:\")\n",
    "print(df.describe())"
   ]
  },
  {
   "cell_type": "code",
   "execution_count": 8,
   "id": "6363be17",
   "metadata": {},
   "outputs": [
    {
     "name": "stdout",
     "output_type": "stream",
     "text": [
      "Number of missing values in each column:\n",
      "Manufacturer           0\n",
      "Model                  0\n",
      "Sales in thousands     0\n",
      "4-year resale value    0\n",
      "Vehicle type           0\n",
      "Price in thousands     0\n",
      "Engine size            0\n",
      "Horsepower             0\n",
      "Wheelbase              0\n",
      "Width                  0\n",
      "Length                 0\n",
      "Curb weight            0\n",
      "Fuel capacity          0\n",
      "Fuel efficiency        0\n",
      "Latest Launch          0\n",
      "dtype: int64\n"
     ]
    }
   ],
   "source": [
    "#Missing Values in Each Column\n",
    "\n",
    "print(\"Number of missing values in each column:\")\n",
    "print(df.isnull().sum())"
   ]
  },
  {
   "cell_type": "code",
   "execution_count": 9,
   "id": "b58f3fc9",
   "metadata": {},
   "outputs": [
    {
     "data": {
      "text/plain": [
       "'Manufacturer'"
      ]
     },
     "execution_count": 9,
     "metadata": {},
     "output_type": "execute_result"
    }
   ],
   "source": [
    "#Drop the Column with Most Missing Values\n",
    "\n",
    "df.isnull().sum().idxmax()"
   ]
  },
  {
   "cell_type": "code",
   "execution_count": 10,
   "id": "bb20d7cd",
   "metadata": {},
   "outputs": [
    {
     "ename": "NameError",
     "evalue": "name 'column_to_drop' is not defined",
     "output_type": "error",
     "traceback": [
      "\u001b[0;31m---------------------------------------------------------------------------\u001b[0m",
      "\u001b[0;31mNameError\u001b[0m                                 Traceback (most recent call last)",
      "Cell \u001b[0;32mIn[10], line 1\u001b[0m\n\u001b[0;32m----> 1\u001b[0m df\u001b[38;5;241m.\u001b[39mdrop(columns\u001b[38;5;241m=\u001b[39m[column_to_drop])\n",
      "\u001b[0;31mNameError\u001b[0m: name 'column_to_drop' is not defined"
     ]
    }
   ],
   "source": [
    "df.drop(columns=[column_to_drop])"
   ]
  },
  {
   "cell_type": "code",
   "execution_count": 11,
   "id": "266837d3",
   "metadata": {},
   "outputs": [
    {
     "ename": "KeyError",
     "evalue": "' '",
     "output_type": "error",
     "traceback": [
      "\u001b[0;31m---------------------------------------------------------------------------\u001b[0m",
      "\u001b[0;31mKeyError\u001b[0m                                  Traceback (most recent call last)",
      "File \u001b[0;32m~/anaconda3/lib/python3.11/site-packages/pandas/core/indexes/base.py:3802\u001b[0m, in \u001b[0;36mIndex.get_loc\u001b[0;34m(self, key, method, tolerance)\u001b[0m\n\u001b[1;32m   3801\u001b[0m \u001b[38;5;28;01mtry\u001b[39;00m:\n\u001b[0;32m-> 3802\u001b[0m     \u001b[38;5;28;01mreturn\u001b[39;00m \u001b[38;5;28mself\u001b[39m\u001b[38;5;241m.\u001b[39m_engine\u001b[38;5;241m.\u001b[39mget_loc(casted_key)\n\u001b[1;32m   3803\u001b[0m \u001b[38;5;28;01mexcept\u001b[39;00m \u001b[38;5;167;01mKeyError\u001b[39;00m \u001b[38;5;28;01mas\u001b[39;00m err:\n",
      "File \u001b[0;32m~/anaconda3/lib/python3.11/site-packages/pandas/_libs/index.pyx:138\u001b[0m, in \u001b[0;36mpandas._libs.index.IndexEngine.get_loc\u001b[0;34m()\u001b[0m\n",
      "File \u001b[0;32m~/anaconda3/lib/python3.11/site-packages/pandas/_libs/index.pyx:165\u001b[0m, in \u001b[0;36mpandas._libs.index.IndexEngine.get_loc\u001b[0;34m()\u001b[0m\n",
      "File \u001b[0;32mpandas/_libs/hashtable_class_helper.pxi:5745\u001b[0m, in \u001b[0;36mpandas._libs.hashtable.PyObjectHashTable.get_item\u001b[0;34m()\u001b[0m\n",
      "File \u001b[0;32mpandas/_libs/hashtable_class_helper.pxi:5753\u001b[0m, in \u001b[0;36mpandas._libs.hashtable.PyObjectHashTable.get_item\u001b[0;34m()\u001b[0m\n",
      "\u001b[0;31mKeyError\u001b[0m: ' '",
      "\nThe above exception was the direct cause of the following exception:\n",
      "\u001b[0;31mKeyError\u001b[0m                                  Traceback (most recent call last)",
      "Cell \u001b[0;32mIn[11], line 3\u001b[0m\n\u001b[1;32m      1\u001b[0m \u001b[38;5;66;03m#Impute (Fill) Missing Numerical Values\u001b[39;00m\n\u001b[0;32m----> 3\u001b[0m df[\u001b[38;5;124m\"\u001b[39m\u001b[38;5;124m \u001b[39m\u001b[38;5;124m\"\u001b[39m]\u001b[38;5;241m.\u001b[39mfillna(df[\u001b[38;5;124m\"\u001b[39m\u001b[38;5;124m\"\u001b[39m]\u001b[38;5;241m.\u001b[39mmean(), inplace\u001b[38;5;241m=\u001b[39m\u001b[38;5;28;01mTrue\u001b[39;00m)\n",
      "File \u001b[0;32m~/anaconda3/lib/python3.11/site-packages/pandas/core/frame.py:3807\u001b[0m, in \u001b[0;36mDataFrame.__getitem__\u001b[0;34m(self, key)\u001b[0m\n\u001b[1;32m   3805\u001b[0m \u001b[38;5;28;01mif\u001b[39;00m \u001b[38;5;28mself\u001b[39m\u001b[38;5;241m.\u001b[39mcolumns\u001b[38;5;241m.\u001b[39mnlevels \u001b[38;5;241m>\u001b[39m \u001b[38;5;241m1\u001b[39m:\n\u001b[1;32m   3806\u001b[0m     \u001b[38;5;28;01mreturn\u001b[39;00m \u001b[38;5;28mself\u001b[39m\u001b[38;5;241m.\u001b[39m_getitem_multilevel(key)\n\u001b[0;32m-> 3807\u001b[0m indexer \u001b[38;5;241m=\u001b[39m \u001b[38;5;28mself\u001b[39m\u001b[38;5;241m.\u001b[39mcolumns\u001b[38;5;241m.\u001b[39mget_loc(key)\n\u001b[1;32m   3808\u001b[0m \u001b[38;5;28;01mif\u001b[39;00m is_integer(indexer):\n\u001b[1;32m   3809\u001b[0m     indexer \u001b[38;5;241m=\u001b[39m [indexer]\n",
      "File \u001b[0;32m~/anaconda3/lib/python3.11/site-packages/pandas/core/indexes/base.py:3804\u001b[0m, in \u001b[0;36mIndex.get_loc\u001b[0;34m(self, key, method, tolerance)\u001b[0m\n\u001b[1;32m   3802\u001b[0m     \u001b[38;5;28;01mreturn\u001b[39;00m \u001b[38;5;28mself\u001b[39m\u001b[38;5;241m.\u001b[39m_engine\u001b[38;5;241m.\u001b[39mget_loc(casted_key)\n\u001b[1;32m   3803\u001b[0m \u001b[38;5;28;01mexcept\u001b[39;00m \u001b[38;5;167;01mKeyError\u001b[39;00m \u001b[38;5;28;01mas\u001b[39;00m err:\n\u001b[0;32m-> 3804\u001b[0m     \u001b[38;5;28;01mraise\u001b[39;00m \u001b[38;5;167;01mKeyError\u001b[39;00m(key) \u001b[38;5;28;01mfrom\u001b[39;00m \u001b[38;5;21;01merr\u001b[39;00m\n\u001b[1;32m   3805\u001b[0m \u001b[38;5;28;01mexcept\u001b[39;00m \u001b[38;5;167;01mTypeError\u001b[39;00m:\n\u001b[1;32m   3806\u001b[0m     \u001b[38;5;66;03m# If we have a listlike key, _check_indexing_error will raise\u001b[39;00m\n\u001b[1;32m   3807\u001b[0m     \u001b[38;5;66;03m#  InvalidIndexError. Otherwise we fall through and re-raise\u001b[39;00m\n\u001b[1;32m   3808\u001b[0m     \u001b[38;5;66;03m#  the TypeError.\u001b[39;00m\n\u001b[1;32m   3809\u001b[0m     \u001b[38;5;28mself\u001b[39m\u001b[38;5;241m.\u001b[39m_check_indexing_error(key)\n",
      "\u001b[0;31mKeyError\u001b[0m: ' '"
     ]
    }
   ],
   "source": [
    "#Impute (Fill) Missing Numerical Values\n",
    "\n",
    "df[\" \"].fillna(df[\"\"].mean(), inplace=True)"
   ]
  },
  {
   "cell_type": "code",
   "execution_count": 13,
   "id": "cbc72dee",
   "metadata": {},
   "outputs": [],
   "source": [
    "#Horsepower, Length, and Fuel Efficiency\n",
    "\n",
    "## Function to find min and max values of any column\n",
    "\n",
    "def find_min_max(df,column_name):\n",
    "    min_value = df[columns_name].min()\n",
    "    max_value = df[columns_name].max()"
   ]
  },
  {
   "cell_type": "code",
   "execution_count": 14,
   "id": "1948bf09",
   "metadata": {},
   "outputs": [
    {
     "ename": "NameError",
     "evalue": "name 'column_name' is not defined",
     "output_type": "error",
     "traceback": [
      "\u001b[0;31m---------------------------------------------------------------------------\u001b[0m",
      "\u001b[0;31mNameError\u001b[0m                                 Traceback (most recent call last)",
      "Cell \u001b[0;32mIn[14], line 3\u001b[0m\n\u001b[1;32m      1\u001b[0m \u001b[38;5;66;03m## Find the rows with the min and max values\u001b[39;00m\n\u001b[0;32m----> 3\u001b[0m min_row \u001b[38;5;241m=\u001b[39m df[df[column_name] \u001b[38;5;241m==\u001b[39m min_value]\n\u001b[1;32m      4\u001b[0m max_row \u001b[38;5;241m=\u001b[39m df[df[column_name] \u001b[38;5;241m==\u001b[39m max_value]\n\u001b[1;32m      5\u001b[0m \u001b[38;5;28;01mreturn\u001b[39;00m min_value,max_value,min_row,max_row\n",
      "\u001b[0;31mNameError\u001b[0m: name 'column_name' is not defined"
     ]
    }
   ],
   "source": [
    "## Find the rows with the min and max values\n",
    "\n",
    "min_row = df[df[column_name] == min_value]\n",
    "max_row = df[df[column_name] == max_value]\n",
    "return min_value,max_value,min_row,max_row"
   ]
  },
  {
   "cell_type": "code",
   "execution_count": null,
   "id": "49293b38",
   "metadata": {},
   "outputs": [],
   "source": [
    "## Now call the function to find min and max for Horsepower\n",
    "\n",
    "hp_min,hp_max,hp_min_row,hp_max_row = find_min_max(df,\"Horsepower\")\n",
    "print(\"\\nHorsepower-Min:\",hp_min,\"\\n\",hp_min_row)\n",
    "print(\"\\nHorsepower-Max:\",hp_max,\"\\n\",hp_max_row)"
   ]
  },
  {
   "cell_type": "code",
   "execution_count": 16,
   "id": "9ef50fe7",
   "metadata": {},
   "outputs": [],
   "source": [
    "## Get min and max horsepower values\n",
    "#Horsepower\n",
    "\n",
    "hp_min = df[\"Horsepower\"].min()\n",
    "hp_max = df[\"Horsepower\"].max()"
   ]
  },
  {
   "cell_type": "code",
   "execution_count": 17,
   "id": "51076eff",
   "metadata": {},
   "outputs": [
    {
     "name": "stdout",
     "output_type": "stream",
     "text": [
      "\n",
      " Horsepower-Min: . \n",
      "      Manufacturer              Model  Sales in thousands 4-year resale value  \\\n",
      "33  Chrysler       Town & Country                  53.48               19.54   \n",
      "\n",
      "   Vehicle type Price in thousands Engine size Horsepower Wheelbase Width  \\\n",
      "33          Car                  .           .          .         .     .   \n",
      "\n",
      "   Length Curb weight Fuel capacity Fuel efficiency Latest Launch  \n",
      "33      .           .             .               .     13-Jul-15  \n",
      "\n",
      "Horsepower-Max: 92 \n",
      "      Manufacturer              Model  Sales in thousands 4-year resale value  \\\n",
      "62  Hyundai        Accent                         41.184                5.86   \n",
      "\n",
      "   Vehicle type Price in thousands Engine size Horsepower Wheelbase Width  \\\n",
      "62    Passenger              9.699         1.5         92      96.1  65.7   \n",
      "\n",
      "   Length Curb weight Fuel capacity Fuel efficiency Latest Launch  \n",
      "62  166.7        2.24          11.9              31      9-Oct-14  \n"
     ]
    }
   ],
   "source": [
    "## Get rows where horsepower is min/max\n",
    "\n",
    "hp_min_row = df[df[\"Horsepower\"] == hp_min]\n",
    "hp_max_row = df[df[\"Horsepower\"] == hp_max]\n",
    "\n",
    "print(\"\\n Horsepower-Min:\", hp_min,\"\\n\",hp_min_row)\n",
    "print(\"\\nHorsepower-Max:\", hp_max,\"\\n\",hp_max_row)\n"
   ]
  },
  {
   "cell_type": "code",
   "execution_count": 4,
   "id": "4a4ed677",
   "metadata": {},
   "outputs": [
    {
     "name": "stdout",
     "output_type": "stream",
     "text": [
      "   Length   Density\n",
      "0   172.4  0.016206\n",
      "1   192.9  0.027570\n",
      "2   192.0  0.028122\n",
      "3   196.6  0.023728\n",
      "4   178.0  0.023772\n"
     ]
    }
   ],
   "source": [
    "#Probability density distribution of continuous numerical variable-length\n",
    "\n",
    "\n",
    "import pandas as pd\n",
    "from scipy.stats import gaussian_kde\n",
    "\n",
    "# Load dataset\n",
    "df = pd.read_csv(\"Car_sales.csv\")\n",
    "df.columns = df.columns.str.strip()\n",
    "if \"Length\" in df.columns:\n",
    "   df[\"Length\"] = pd.to_numeric(df[\"Length\"], errors=\"coerce\")\n",
    "   data = df[\"Length\"].dropna()\n",
    "   kde = gaussian_kde(data)\n",
    "   density_values = kde.evaluate(data)\n",
    "   result = pd.DataFrame({'Length': data, 'Density': density_values})\n",
    "   print(result.head())\n",
    "else:\n",
    "   print(\"Error: 'Length' column not found in the dataset.\")"
   ]
  },
  {
   "cell_type": "code",
   "execution_count": 6,
   "id": "0b270225",
   "metadata": {},
   "outputs": [
    {
     "name": "stdout",
     "output_type": "stream",
     "text": [
      "     Manufacturer  Count\n",
      "0   Acura              4\n",
      "1   Audi               3\n",
      "2   BMW                3\n",
      "3   Buick              4\n",
      "4   Cadillac           5\n",
      "5   Chevrolet          9\n",
      "6   Chrysler           7\n",
      "7   Dodge             11\n",
      "8   Ford              11\n",
      "9   Honda              5\n",
      "10  Hyundai            3\n",
      "11  Infiniti           1\n",
      "12  Jaguar             1\n",
      "13  Jeep               3\n",
      "14  Lexus              6\n",
      "15  Lincoln            3\n",
      "16  Mercedes-Benz      9\n",
      "17  Mercury            6\n",
      "18  Mitsubishi         7\n",
      "19  Nissan             7\n",
      "20  Oldsmobile         6\n",
      "21  Plymouth           4\n",
      "22  Pontiac            6\n",
      "23  Porsche            3\n",
      "24  Saab               2\n",
      "25  Saturn             5\n",
      "26  Subaru             2\n",
      "27  Toyota             9\n",
      "28  Volkswagen         6\n",
      "29  Volvo              6\n"
     ]
    }
   ],
   "source": [
    "#Count by category –group by manufacture\n",
    "\n",
    "import pandas as pd\n",
    "df = pd.read_csv(\"Car_sales.csv\")\n",
    "manufacturer_counts = df.groupby('Manufacturer').size().reset_index(name='Count')\n",
    "print(manufacturer_counts)"
   ]
  },
  {
   "cell_type": "markdown",
   "id": "73820bee",
   "metadata": {},
   "source": [
    "# Boxplot of other numerical variables w.r.t manufacture\n",
    "➢ Clean Column Names:\n",
    "Spaces are trimmed from column names using\n",
    "df.columns.str.strip() to avoid mismatches.\n",
    "\n",
    "➢ Select Numerical Columns:\n",
    "We use df.select_dtypes(include=['number']) to pick out only\n",
    "the numerical columns (e.g., Price, Sales, etc.) excluding\n",
    "Manufacturer.\n",
    "\n",
    "➢ Loop Through Numerical Columns:\n",
    "For each numerical column (e.g., Price, Horsepower), a boxplot\n",
    "is generated with sns.boxplot().\n",
    "\n",
    "➢ X-axis: Represents different Manufacturers.\n",
    "➢ Y-axis: Represents the numerical variable being analyzed (e.g.,\n",
    "Price, Sales).\n",
    "    \n",
    "➢ Boxplot Visualization:\n",
    "A boxplot is generated to visualize the distribution, including\n",
    "the median, quartiles, and potential outliers for each\n",
    "manufacturer.\n",
    "\n",
    "➢ Rotation of X-axis Labels:\n",
    "The x-axis labels (Manufacturer names) are rotated for better\n",
    "readability using plt.xticks(rotation=45)."
   ]
  },
  {
   "cell_type": "code",
   "execution_count": 10,
   "id": "1e53d4ae",
   "metadata": {},
   "outputs": [
    {
     "data": {
      "image/png": "[encoded data removed]",
      "text/plain": [
       "<Figure size 1000x600 with 1 Axes>"
      ]
     },
     "metadata": {},
     "output_type": "display_data"
    }
   ],
   "source": [
    "#We aim to create boxplots for each numerical variable (like Price,\n",
    "#Sales, Horsepower, etc.) with respect to the Manufacturer.\n",
    "\n",
    "import pandas as pd\n",
    "import seaborn as sns\n",
    "import matplotlib.pyplot as plt\n",
    "df = pd.read_csv(\"Car_sales.csv\")\n",
    "df.columns = df.columns.str.strip()\n",
    "numerical_columns = df.select_dtypes(include=['number']).columns\n",
    "numerical_columns = [col for col in numerical_columns if col !=\n",
    "'Manufacturer']\n",
    "if 'Manufacturer' in df.columns:\n",
    "# Create boxplots for each numerical column with respect to 'Manufacturer'\n",
    " for col in numerical_columns:\n",
    "   plt.figure(figsize=(10, 6))\n",
    "   sns.boxplot(x='Manufacturer', y=col, data=df)\n",
    "   plt.title(f'Boxplot of {col} by Manufacturer')\n",
    "   plt.xlabel('Manufacturer')\n",
    "   plt.ylabel(col)\n",
    "   plt.xticks(rotation=45)\n",
    "   plt.show()\n",
    "else:\n",
    "   print(\"Error: 'Manufacturer' column not found in the dataset.\")"
   ]
  },
  {
   "cell_type": "code",
   "execution_count": 4,
   "id": "a5a7c87d",
   "metadata": {},
   "outputs": [
    {
     "name": "stdout",
     "output_type": "stream",
     "text": [
      "\n",
      " Horsepower-Min: .\n",
      "\n",
      " Horsepower-Max: 92\n"
     ]
    }
   ],
   "source": [
    "\n",
    "import pandas as pd\n",
    "\n",
    "df = pd.read_csv(\"Car_sales.csv\")\n",
    "hp_min = df[\"Horsepower\"].min()\n",
    "hp_max = df[\"Horsepower\"].max()\n",
    "print(\"\\n Horsepower-Min:\", hp_min)\n",
    "print(\"\\n Horsepower-Max:\", hp_max)"
   ]
  },
  {
   "cell_type": "code",
   "execution_count": 9,
   "id": "95d20775",
   "metadata": {},
   "outputs": [
    {
     "ename": "SyntaxError",
     "evalue": "unterminated string literal (detected at line 13) (3564412816.py, line 13)",
     "output_type": "error",
     "traceback": [
      "\u001b[0;36m  Cell \u001b[0;32mIn[9], line 13\u001b[0;36m\u001b[0m\n\u001b[0;31m    plt.title(f\"Boxplot of {col} by Manufacturer')\u001b[0m\n\u001b[0m              ^\u001b[0m\n\u001b[0;31mSyntaxError\u001b[0m\u001b[0;31m:\u001b[0m unterminated string literal (detected at line 13)\n"
     ]
    }
   ],
   "source": [
    "import pandas as pd\n",
    "import seaborn as sns\n",
    "import matplotlib.pyplot as plt\n",
    "\n",
    "df = pd.read_csv(\"Car_sales.csv\")\n",
    "df.columns = df.columns.str.strip()\n",
    "numerical_columns = df.select_dtypes(include=[\"number\"]).columns\n",
    "numerical_columns = [col for col in numerical_columns if col!='Manufacturer']\n",
    "if'Manufacturer' in df.columns:\n",
    "    for col in numerical_columns:\n",
    "        plt.figure(fig.size=(10,6))\n",
    "        sns.boxplot(x='Manufacturer', y=col, data=df)\n",
    "        plt.title(f\"Boxplot of {col} by Manufacturer')\n",
    "        plt.xlabel('Manufacturer')\n",
    "        plt.ylabel(col)\n",
    "        plt.xticks(rotation=45)\n",
    "        plt.show()\n",
    "else:\n",
    "        print(\"Error:'Mamufacturer' column not found in the dataset\")"
   ]
  },
  {
   "cell_type": "markdown",
   "id": "56838868",
   "metadata": {},
   "source": [
    "# Divide the data\n",
    "1. Check Column Names:\n",
    "\n",
    "The column names are printed to help you verify the\n",
    "exact name of the sales column.\n",
    "A case-insensitive search is performed to find any column\n",
    "containing the word 'sales'.\n",
    "\n",
    "2. Handle Missing Column:\n",
    "\n",
    "If no column related to 'sales' is found, a KeyError is\n",
    "raised with a helpful message.\n",
    "\n",
    "3. Extract y (Output):\n",
    "The first matching column is used as the sales column,\n",
    "and its values are assigned to y.\n",
    "4. Extract X (Input):\n",
    "\n",
    "The sales column is dropped from the dataset, and the\n",
    "remaining columns are assigned to X.\n",
    "5. Display Shapes and Sample Data:\n",
    "\n",
    "\n",
    "The shapes of X and y are printed to confirm the split.\n",
    "The first few rows of X and y are displayed for\n",
    "verification."
   ]
  },
  {
   "cell_type": "code",
   "execution_count": 11,
   "id": "4e818a97",
   "metadata": {},
   "outputs": [
    {
     "ename": "IndentationError",
     "evalue": "expected an indented block after 'if' statement on line 6 (4087003953.py, line 7)",
     "output_type": "error",
     "traceback": [
      "\u001b[0;36m  Cell \u001b[0;32mIn[11], line 7\u001b[0;36m\u001b[0m\n\u001b[0;31m    raise KeyError(\"No column related to 'sales' found in the dataset.Please check the column names.\")\u001b[0m\n\u001b[0m    ^\u001b[0m\n\u001b[0;31mIndentationError\u001b[0m\u001b[0;31m:\u001b[0m expected an indented block after 'if' statement on line 6\n"
     ]
    }
   ],
   "source": [
    "import pandas as pd\n",
    "df = pd.read_csv('car_sales.csv')\n",
    "print(\"Column names in the dataset:\")\n",
    "print(df.columns)\n",
    "sales_column = [col for col in df.columns if 'sales' in col.lower()]\n",
    "if not sales_column:\n",
    "raise KeyError(\"No column related to 'sales' found in the dataset.Please check the column names.\")\n",
    "sales_column_name = sales_column[0]\n",
    "print(f\"Using column '{sales_column_name}' as the sales column.\")\n",
    "y = df[sales_column_name]\n",
    "X = df.drop(columns=[sales_column_name])\n",
    "print(\"\\nShape of X (input):\", X.shape)\n",
    "print(\"Shape of y (output):\", y.shape)\n",
    "print(\"\\nInput (X):\")\n",
    "print(X.head())\n",
    "print(\"\\nOutput (y):\")\n",
    "print(y.head())"
   ]
  },
  {
   "cell_type": "code",
   "execution_count": 14,
   "id": "308855e7",
   "metadata": {},
   "outputs": [
    {
     "name": "stdout",
     "output_type": "stream",
     "text": [
      "column names in the dataset:\n",
      "Index(['Manufacturer', 'Model', 'Sales in thousands', '4-year resale value',\n",
      "       'Vehicle type', 'Price in thousands', 'Engine size', 'Horsepower',\n",
      "       'Wheelbase', 'Width', 'Length', 'Curb weight', 'Fuel capacity',\n",
      "       'Fuel efficiency', 'Latest Launch'],\n",
      "      dtype='object')\n"
     ]
    }
   ],
   "source": [
    "#Encode other categorical variables using label encoder\n",
    "\n",
    "import pandas as pd\n",
    "from sklearn.preprocessing import LabelEncoder\n",
    "\n",
    "df = pd.read_csv('Car_sales.csv')\n",
    "print(\"column names in the dataset:\")\n",
    "print(df.columns)\n",
    "sales_column = [col for col in df.columns if 'sales' in col.lower()]\n",
    "if not sales_column:\n",
    "    raise KeyError(\"No column related to 'sales' found in the dataset.Please check the column names.\")\n",
    "    sales_column_name = sales_column[0]\n",
    "    print(f\"Using column '{sales_column_name}' as the sales column.\")\n",
    "    y = df[sales_column_name]\n",
    "    X = df.drop(columns=[sales_column_name])\n",
    "    categorical_columns = X.select_dtypes(include=['object','category']).columns\n",
    "    label_encoders = {}\n",
    "    for col in categorical_columns:\n",
    "      le = LabelEncoder()\n",
    "      X[col] = le.fit_transform(X[col])\n",
    "      label_encoders[col] = le\n",
    "      print(\"\\nShape of X (input):\", X.shape)\n",
    "      print(\"Shape of y (output):\", y.shape)\n",
    "      print(\"\\nInput (X) with encoded categorical variables:\")\n",
    "      print(X.head())\n",
    "      print(\"\\nOutput (y):\")\n",
    "      print(y.head())\n",
    "      for col in categorical_columns: \n",
    "        print(f\"\\nMapping for {col}:\")\n",
    "        print(dict(zip(label_encoders[col].classes_,label_encoders[col].transform(label_encoders[col].classes_))))            \n"
   ]
  },
  {
   "cell_type": "code",
   "execution_count": 16,
   "id": "da76f431",
   "metadata": {},
   "outputs": [
    {
     "name": "stdout",
     "output_type": "stream",
     "text": [
      "Available columns: Index(['Manufacturer', 'Model', 'Sales in thousands', '4-year resale value',\n",
      "       'Vehicle type', 'Price in thousands', 'Engine size', 'Horsepower',\n",
      "       'Wheelbase', 'Width', 'Length', 'Curb weight', 'Fuel capacity',\n",
      "       'Fuel efficiency', 'Latest Launch'],\n",
      "      dtype='object')\n"
     ]
    }
   ],
   "source": [
    "#df.columns = df.columns.str.strip()\n",
    "#Removes extra spaces from all column names, ensuring they\n",
    "#match exactly.\n",
    "\n",
    "import pandas as pd\n",
    "df = pd.read_csv(\"Car_sales.csv\")\n",
    "df.columns = df.columns.str.strip()\n",
    "print(\"Available columns:\", df.columns)"
   ]
  },
  {
   "cell_type": "code",
   "execution_count": 17,
   "id": "e88e27e5",
   "metadata": {},
   "outputs": [
    {
     "name": "stdout",
     "output_type": "stream",
     "text": [
      "    Manufacturer              Model  Sales in thousands 4-year resale value  \\\n",
      "0  Acura          Integra                        16.919               16.36   \n",
      "1  Acura          TL                             39.384              19.875   \n",
      "2  Acura          CL                             14.114              18.225   \n",
      "3  Acura          RL                              8.588              29.725   \n",
      "4  Audi           A4                             20.397              22.255   \n",
      "\n",
      "  Price in thousands Engine size Horsepower Wheelbase Width Length  \\\n",
      "0               21.5         1.8        140     101.2  67.3  172.4   \n",
      "1               28.4         3.2        225     108.1  70.3  192.9   \n",
      "2                  .         3.2        225     106.9  70.6    192   \n",
      "3                 42         3.5        210     114.6  71.4  196.6   \n",
      "4              23.99         1.8        150     102.6  68.2    178   \n",
      "\n",
      "  Curb weight Fuel capacity Fuel efficiency Latest Launch  Vehicle_Passenger  \n",
      "0       2.639          13.2              28      2-Feb-14                  1  \n",
      "1       3.517          17.2              25      6-Mar-15                  1  \n",
      "2        3.47          17.2              26      1-Apr-14                  1  \n",
      "3        3.85            18              22      3-Oct-15                  1  \n",
      "4       2.998          16.4              27     10-Aug-15                  1  \n"
     ]
    }
   ],
   "source": [
    "if'Vehicle type' in df.columns:\n",
    "    df = pd.get_dummies(df,columns=['Vehicle type'],\n",
    "    prefix = 'Vehicle',drop_first=True)\n",
    "    print(df.head())\n",
    "else:\n",
    "    print(\"Error:'Vehicle type' column not found in the dataset\")\n",
    "    "
   ]
  },
  {
   "cell_type": "code",
   "execution_count": 18,
   "id": "2520334c",
   "metadata": {},
   "outputs": [
    {
     "name": "stdout",
     "output_type": "stream",
     "text": [
      "Available columns: Index(['Manufacturer', 'Model', 'Sales in thousands', '4-year resale value',\n",
      "       'Vehicle type', 'Price in thousands', 'Engine size', 'Horsepower',\n",
      "       'Wheelbase', 'Width', 'Length', 'Curb weight', 'Fuel capacity',\n",
      "       'Fuel efficiency', 'Latest Launch'],\n",
      "      dtype='object')\n",
      "    Manufacturer              Model  Sales in thousands 4-year resale value  \\\n",
      "0  Acura          Integra                        16.919               16.36   \n",
      "1  Acura          TL                             39.384              19.875   \n",
      "2  Acura          CL                             14.114              18.225   \n",
      "3  Acura          RL                              8.588              29.725   \n",
      "4  Audi           A4                             20.397              22.255   \n",
      "\n",
      "  Price in thousands Engine size Horsepower Wheelbase Width Length  \\\n",
      "0               21.5         1.8        140     101.2  67.3  172.4   \n",
      "1               28.4         3.2        225     108.1  70.3  192.9   \n",
      "2                  .         3.2        225     106.9  70.6    192   \n",
      "3                 42         3.5        210     114.6  71.4  196.6   \n",
      "4              23.99         1.8        150     102.6  68.2    178   \n",
      "\n",
      "  Curb weight Fuel capacity Fuel efficiency Latest Launch  Vehicle_Passenger  \n",
      "0       2.639          13.2              28      2-Feb-14                  1  \n",
      "1       3.517          17.2              25      6-Mar-15                  1  \n",
      "2        3.47          17.2              26      1-Apr-14                  1  \n",
      "3        3.85            18              22      3-Oct-15                  1  \n",
      "4       2.998          16.4              27     10-Aug-15                  1  \n"
     ]
    }
   ],
   "source": [
    "import pandas as pd\n",
    "df = pd.read_csv(\"Car_sales.csv\")\n",
    "df.columns = df.columns.str.strip()\n",
    "print(\"Available columns:\", df.columns)\n",
    "if'Vehicle type' in df.columns:\n",
    "    df = pd.get_dummies(df,columns=['Vehicle type'],\n",
    "    prefix = 'Vehicle',drop_first=True)\n",
    "    print(df.head())\n",
    "else:\n",
    "    print(\"Error:'Vehicle type' column not found in the dataset\")\n",
    "    "
   ]
  },
  {
   "cell_type": "markdown",
   "id": "b6788d19",
   "metadata": {},
   "source": [
    "# Split the Dataset into Train (70%) and Test (10%\n",
    "train_test_split(X, y, test_size=0.30, random_state=42)"
   ]
  },
  {
   "cell_type": "code",
   "execution_count": 21,
   "id": "5b3d5bdb",
   "metadata": {},
   "outputs": [
    {
     "ename": "ValueError",
     "evalue": "too many values to unpack (expected 2)",
     "output_type": "error",
     "traceback": [
      "\u001b[0;31m---------------------------------------------------------------------------\u001b[0m",
      "\u001b[0;31mValueError\u001b[0m                                Traceback (most recent call last)",
      "Cell \u001b[0;32mIn[21], line 8\u001b[0m\n\u001b[1;32m      6\u001b[0m y \u001b[38;5;241m=\u001b[39m df[\u001b[38;5;124m'\u001b[39m\u001b[38;5;124mSales in thousands\u001b[39m\u001b[38;5;124m'\u001b[39m]\n\u001b[1;32m      7\u001b[0m x_train,x_temp,y_train,y_temp \u001b[38;5;241m=\u001b[39m train_test_split(x,y,test_size\u001b[38;5;241m=\u001b[39m\u001b[38;5;241m0.30\u001b[39m,random_state\u001b[38;5;241m=\u001b[39m\u001b[38;5;241m42\u001b[39m)\n\u001b[0;32m----> 8\u001b[0m x_test, y_test \u001b[38;5;241m=\u001b[39m train_test_split(x_temp,y_temp,test_size\u001b[38;5;241m=\u001b[39m\u001b[38;5;241m2\u001b[39m\u001b[38;5;241m/\u001b[39m\u001b[38;5;241m3\u001b[39m,random_state\u001b[38;5;241m=\u001b[39m\u001b[38;5;241m42\u001b[39m)\n\u001b[1;32m      9\u001b[0m \u001b[38;5;28mprint\u001b[39m(\u001b[38;5;124m\"\u001b[39m\u001b[38;5;124mTraining set shape:\u001b[39m\u001b[38;5;124m\"\u001b[39m,x_train\u001b[38;5;241m.\u001b[39mshape,y_train\u001b[38;5;241m.\u001b[39mshape)\n\u001b[1;32m     10\u001b[0m \u001b[38;5;28mprint\u001b[39m(\u001b[38;5;124m\"\u001b[39m\u001b[38;5;124mTest set shape:\u001b[39m\u001b[38;5;124m\"\u001b[39m,x_test\u001b[38;5;241m.\u001b[39mshape,y_test\u001b[38;5;241m.\u001b[39mshape)\n",
      "\u001b[0;31mValueError\u001b[0m: too many values to unpack (expected 2)"
     ]
    }
   ],
   "source": [
    "import pandas as pd\n",
    "from sklearn.model_selection import train_test_split\n",
    "df = pd.read_csv(\"Car_sales.csv\")\n",
    "df.columns = df.columns.str.strip()\n",
    "x = df.drop(columns=['Sales in thousands'])\n",
    "y = df['Sales in thousands']\n",
    "x_train,x_temp,y_train,y_temp = train_test_split(x,y,test_size=0.30,random_state=42)\n",
    "x_test, y_test = train_test_split(x_temp,y_temp,test_size=2/3,random_state=42)\n",
    "print(\"Training set shape:\",x_train.shape,y_train.shape)\n",
    "print(\"Test set shape:\",x_test.shape,y_test.shape)"
   ]
  },
  {
   "cell_type": "code",
   "execution_count": 24,
   "id": "392fe289",
   "metadata": {},
   "outputs": [
    {
     "data": {
      "image/png": "[encoded data removed]",
      "text/plain": [
       "<Figure size 250x250 with 2 Axes>"
      ]
     },
     "metadata": {},
     "output_type": "display_data"
    }
   ],
   "source": [
    "#Data visualization with Seaborn Pairplot\n",
    "\n",
    "import pandas as pd\n",
    "import seaborn as sns\n",
    "import matplotlib.pyplot as plt\n",
    "df = pd.read_csv(\"Car_sales.csv\")\n",
    "df.columns = df.columns.str.lower()\n",
    "sns.pairplot(df)\n",
    "plt.show()"
   ]
  },
  {
   "cell_type": "code",
   "execution_count": 26,
   "id": "98e38b90",
   "metadata": {},
   "outputs": [
    {
     "data": {
      "image/png": "[encoded data removed]",
      "text/plain": [
       "<Figure size 800x500 with 1 Axes>"
      ]
     },
     "metadata": {},
     "output_type": "display_data"
    }
   ],
   "source": [
    "#Plot correlation of price and sales using scatterplot\n",
    "\n",
    "import pandas as pd\n",
    "import matplotlib.pyplot as plt\n",
    "import seaborn as sns\n",
    "\n",
    "df = pd.read_csv(\"Car_sales.csv\")\n",
    "df.columns = df.columns.str.lower()\n",
    "price_col = next((col for col in df.columns if\"price\" in col),None)\n",
    "sales_col = next((col for col in df.columns if\"sales\" in col or \"units\" in col),None)\n",
    "if price_col and sales_col:\n",
    "    plt.figure(figsize=(8,5))\n",
    "    sns.scatterplot(x=df[price_col],y=df[sales_col])\n",
    "    plt.xlabel(price_col.capitalize())\n",
    "    plt.ylabel(sales_col.capitalize())\n",
    "    plt.title(\"Price vs Sales scatter Plot\")\n",
    "    plt.show()\n",
    "else:\n",
    "    print(\"Error: Could not find 'price' and 'sales' columns\")\n"
   ]
  },
  {
   "cell_type": "code",
   "execution_count": 9,
   "id": "d9dd76e2",
   "metadata": {},
   "outputs": [],
   "source": [
    "#Boxplot of sales of different manufacturer\n",
    "\n",
    "## Sample dataset with 'manufacturer' and 'sales' columns\n",
    "\n",
    "import pandas as pd\n",
    "import matplotlib.pyplot as plt\n",
    "import seaborn as sns\n",
    "\n",
    "data = {\"manufacturer\": [\"Toyota\", \"Ford\", \"BMW\", \"Toyota\", \"Ford\", \"BMW\", \"Toyota\", \"Ford\", \"BMW\"],\"sales\": [500, 450, 520, 600, 490, 580, 620, 470, 590]}\n",
    "        "
   ]
  },
  {
   "cell_type": "code",
   "execution_count": 12,
   "id": "b6bbd3b5",
   "metadata": {},
   "outputs": [
    {
     "name": "stdout",
     "output_type": "stream",
     "text": [
      "  manufacturer  sales\n",
      "0       Toyota    500\n",
      "1         Ford    450\n",
      "2          BMW    520\n",
      "3       Toyota    600\n",
      "4         Ford    490\n",
      "5          BMW    580\n",
      "6       Toyota    620\n",
      "7         Ford    470\n",
      "8          BMW    590\n"
     ]
    }
   ],
   "source": [
    "# Create DataFrame\n",
    "\n",
    "df = pd.DataFrame(data)\n",
    "print(df)"
   ]
  },
  {
   "cell_type": "code",
   "execution_count": 14,
   "id": "6329d210",
   "metadata": {},
   "outputs": [
    {
     "data": {
      "text/plain": [
       "<Axes: xlabel='manufacturer', ylabel='sales'>"
      ]
     },
     "execution_count": 14,
     "metadata": {},
     "output_type": "execute_result"
    },
    {
     "data": {
      "image/png": "[encoded data removed]",
      "text/plain": [
       "<Figure size 800x500 with 1 Axes>"
      ]
     },
     "metadata": {},
     "output_type": "display_data"
    }
   ],
   "source": [
    "# Create a boxplot boxplot(x=df[\"manufacturerof sales by manufacturer\n",
    "\n",
    "plt.figure(figsize=(8,5))\n",
    "sns.boxplot(x=df[\"manufacturer\"],y=df[\"sales\"])"
   ]
  },
  {
   "cell_type": "code",
   "execution_count": 15,
   "id": "f053ee80",
   "metadata": {},
   "outputs": [
    {
     "data": {
      "image/png": "[encoded data removed]",
      "text/plain": [
       "<Figure size 640x480 with 1 Axes>"
      ]
     },
     "metadata": {},
     "output_type": "display_data"
    }
   ],
   "source": [
    "plt.xlabel(\"Manufacturer\")\n",
    "plt.ylabel(\"Sales\")\n",
    "plt.title(\"Sales Distribution by Manufacturer\")\n",
    "plt.show()"
   ]
  },
  {
   "cell_type": "code",
   "execution_count": 18,
   "id": "5a7a64e0",
   "metadata": {},
   "outputs": [
    {
     "name": "stdout",
     "output_type": "stream",
     "text": [
      "The correlation coefficient between price and sales is:{correlation}\n"
     ]
    }
   ],
   "source": [
    "#correlation coefficient value of price and sales\n",
    "\n",
    "import pandas as pd\n",
    "\n",
    "data = {\n",
    "    \"price\": [20000, 25000, 30000, 35000, 40000, 45000, 50000],\n",
    "\"sales\": [250, 200, 150, 130, 120, 100, 90]\n",
    "}\n",
    "df = pd.DataFrame(data)\n",
    "correlation = df[\"price\"].corr(df[\"sales\"])\n",
    "print(\"The correlation coefficient between price and sales is:{correlation}\")"
   ]
  },
  {
   "cell_type": "code",
   "execution_count": 19,
   "id": "c71fa4fc",
   "metadata": {},
   "outputs": [
    {
     "name": "stdout",
     "output_type": "stream",
     "text": [
      "   price  sales\n",
      "0  20000    250\n",
      "1  25000    200\n",
      "2  30000    150\n",
      "3  35000    130\n",
      "4  40000    120\n",
      "5  45000    100\n",
      "6  50000     90\n"
     ]
    }
   ],
   "source": [
    "df_sorted = df.sort_values(by=\"price\")\n",
    "print(df_sorted)"
   ]
  },
  {
   "cell_type": "code",
   "execution_count": 21,
   "id": "20ead1f5",
   "metadata": {},
   "outputs": [
    {
     "name": "stdout",
     "output_type": "stream",
     "text": [
      "price    20000\n",
      "sales      250\n",
      "Name: 0, dtype: int64\n"
     ]
    }
   ],
   "source": [
    "print(df.iloc[0])"
   ]
  },
  {
   "cell_type": "code",
   "execution_count": 22,
   "id": "be8def42",
   "metadata": {},
   "outputs": [
    {
     "name": "stdout",
     "output_type": "stream",
     "text": [
      "price    50000\n",
      "sales       90\n",
      "Name: 6, dtype: int64\n"
     ]
    }
   ],
   "source": [
    "print(df.iloc[-1])"
   ]
  },
  {
   "cell_type": "code",
   "execution_count": 23,
   "id": "3f27bcb6",
   "metadata": {},
   "outputs": [
    {
     "name": "stdout",
     "output_type": "stream",
     "text": [
      "\n",
      " Least Expensive:  price    20000\n",
      "sales      250\n",
      "Name: 0, dtype: int64\n",
      "\n",
      " Most Expensive:  price    50000\n",
      "sales       90\n",
      "Name: 6, dtype: int64\n"
     ]
    }
   ],
   "source": [
    "least_expensive_car = df_sorted.iloc[0]\n",
    "most_expensive_car = df_sorted.iloc[-1]\n",
    "print(\"\\n Least Expensive: \",least_expensive_car)\n",
    "print(\"\\n Most Expensive: \",most_expensive_car)"
   ]
  },
  {
   "cell_type": "code",
   "execution_count": 26,
   "id": "8e4154f3",
   "metadata": {},
   "outputs": [
    {
     "ename": "SyntaxError",
     "evalue": "invalid syntax (3856876662.py, line 12)",
     "output_type": "error",
     "traceback": [
      "\u001b[0;36m  Cell \u001b[0;32mIn[26], line 12\u001b[0;36m\u001b[0m\n\u001b[0;31m    else:\u001b[0m\n\u001b[0m    ^\u001b[0m\n\u001b[0;31mSyntaxError\u001b[0m\u001b[0;31m:\u001b[0m invalid syntax\n"
     ]
    }
   ],
   "source": [
    "#find min and max values of any column\n",
    "\n",
    "import pandas as pd\n",
    "def find_min_max(df,column_name):\n",
    "    if column_name in df.columns:\n",
    "        df[column_name] = pb.to_numeric(df[column_name],errors='coerce')\n",
    "        min_value = df[column_name].min()\n",
    "        max_value = df[column_name].max()\n",
    "        if pd.isna(min_value):\n",
    "            return None,f\"Error: Column '{Column_name}' contains invalid or missing values\"\n",
    "            return min_value, max_value\n",
    "else:\n",
    "         return None, f\"Error: Column '{column_name}' not found in the DataFrame.\"\n",
    "df = pd.read_csv(\"car_sales.csv\")\n",
    "column_name = \"Sales in thousands\"\n",
    "min_value, max_value = find_min_max(df, column_name)\n",
    "if min_value is None:\n",
    "   print(max_value)\n",
    "else:\n",
    "   print(f\"Min Value of '{column_name}': {min_value}\")\n",
    "   print(f\"Max Value of '{column_name}': {max_value}\")"
   ]
  },
  {
   "cell_type": "code",
   "execution_count": 28,
   "id": "95e653fa",
   "metadata": {},
   "outputs": [
    {
     "ename": "IndentationError",
     "evalue": "expected an indented block after 'for' statement on line 10 (1820215357.py, line 12)",
     "output_type": "error",
     "traceback": [
      "\u001b[0;36m  Cell \u001b[0;32mIn[28], line 12\u001b[0;36m\u001b[0m\n\u001b[0;31m    ax = axes[i // 2, i % 2]\u001b[0m\n\u001b[0m    ^\u001b[0m\n\u001b[0;31mIndentationError\u001b[0m\u001b[0;31m:\u001b[0m expected an indented block after 'for' statement on line 10\n"
     ]
    }
   ],
   "source": [
    "import pandas as pd\n",
    "import matplotlib.pyplot as plt\n",
    "import seaborn as sns\n",
    "\n",
    "df = pd.read_csv(\"Car_sales.csv\")\n",
    "columns = [\"Price in thousands\", \"Sales in thousands\",\n",
    "\"Horsepower\", \"Fuel efficiency\"]\n",
    "fig, axes = plt.subplots(2, 2, figsize=(12, 10)) # 2 rows and 2\n",
    "columns\n",
    "for i, column in enumerate(columns):\n",
    "# Determine row and column index for the subplot\n",
    "ax = axes[i // 2, i % 2]\n",
    "# Plot histogram\n",
    "sns.histplot(df[column], kde=True, ax=ax)\n",
    "ax.set_title(f\"Histogram of {column.capitalize()}\")\n",
    "ax.set_xlabel(column.capitalize())\n",
    "ax.set_ylabel(\"Frequency\")\n",
    "plt.tight_layout()\n",
    "plt.show()"
   ]
  },
  {
   "cell_type": "code",
   "execution_count": 29,
   "id": "4e6f667e",
   "metadata": {},
   "outputs": [
    {
     "ename": "NameError",
     "evalue": "name 'columns' is not defined",
     "output_type": "error",
     "traceback": [
      "\u001b[0;31m---------------------------------------------------------------------------\u001b[0m",
      "\u001b[0;31mNameError\u001b[0m                                 Traceback (most recent call last)",
      "Cell \u001b[0;32mIn[29], line 1\u001b[0m\n\u001b[0;32m----> 1\u001b[0m \u001b[38;5;28mprint\u001b[39m(df\u001b[38;5;241m.\u001b[39mdropna(subset\u001b[38;5;241m=\u001b[39mcolumns))\n\u001b[1;32m      2\u001b[0m \u001b[38;5;28mprint\u001b[39m(df\u001b[38;5;241m.\u001b[39mfillna(df\u001b[38;5;241m.\u001b[39mmean()))\n",
      "\u001b[0;31mNameError\u001b[0m: name 'columns' is not defined"
     ]
    }
   ],
   "source": [
    "import pandas as pd\n",
    "from sklearn.preprocessing import StandardScaler, MinMaxScaler\n",
    "\n",
    "df = pd.read_csv(\"Car_sales.csv\")\n",
    "columns = [\"Prices in thousands\",\"Sales in thousands\",\"Horsepower\",\"Fuel effieciency\"]\n"
   ]
  },
  {
   "cell_type": "code",
   "execution_count": 34,
   "id": "4edeffca",
   "metadata": {},
   "outputs": [
    {
     "name": "stdout",
     "output_type": "stream",
     "text": [
      "Standardized Data:\n",
      "   Price in thousands  Sales in thousands  Horsepower  Fuel efficiency\n",
      "0           -0.413039           -0.527996   -0.797638         0.974481\n",
      "1            0.066441           -0.200292    0.695780         0.273405\n",
      "3            1.011504           -0.649523    0.432235        -0.427672\n",
      "4           -0.240009           -0.477261   -0.621941         0.740789\n",
      "5            0.452111           -0.500849    0.256539        -0.427672\n",
      "\n",
      "Normalized Data:\n",
      "   Price in thousands  Sales in thousands  Horsepower  Fuel efficiency\n",
      "0            0.160821            0.031102    0.215190         0.433333\n",
      "1            0.251295            0.072669    0.430380         0.333333\n",
      "3            0.429620            0.015687    0.392405         0.233333\n",
      "4            0.193470            0.037537    0.240506         0.400000\n",
      "5            0.324067            0.034545    0.367089         0.233333\n"
     ]
    }
   ],
   "source": [
    "import pandas as pd\n",
    "from sklearn.preprocessing import StandardScaler, MinMaxScaler\n",
    "\n",
    "df = pd.read_csv(\"Car_sales.csv\")\n",
    "columns = [\"Price in thousands\", \"Sales in thousands\",\"Horsepower\", \"Fuel efficiency\"]\n",
    "df[columns] = df[columns].apply(pd.to_numeric, errors='coerce')\n",
    "df_cleaned = df.dropna(subset=columns)\n",
    "scaler = StandardScaler()\n",
    "df_standardized = df_cleaned.copy()\n",
    "df_standardized[columns] = scaler.fit_transform(df_cleaned[columns])\n",
    "normalizer = MinMaxScaler()\n",
    "df_normalized = df_cleaned.copy()\n",
    "df_normalized[columns] = normalizer.fit_transform(df_cleaned[columns])\n",
    "print(\"Standardized Data:\")\n",
    "print(df_standardized[columns].head())\n",
    "print(\"\\nNormalized Data:\")\n",
    "print(df_normalized[columns].head())"
   ]
  },
  {
   "cell_type": "code",
   "execution_count": 2,
   "id": "852a5c9a",
   "metadata": {},
   "outputs": [
    {
     "name": "stdout",
     "output_type": "stream",
     "text": [
      "Top 5 rows:\n",
      "    Manufacturer              Model  Sales in thousands 4-year resale value  \\\n",
      "0  Acura          Integra                        16.919               16.36   \n",
      "1  Acura          TL                             39.384              19.875   \n",
      "2  Acura          CL                             14.114              18.225   \n",
      "3  Acura          RL                              8.588              29.725   \n",
      "4  Audi           A4                             20.397              22.255   \n",
      "\n",
      "  Vehicle type Price in thousands Engine size Horsepower Wheelbase Width  \\\n",
      "0    Passenger               21.5         1.8        140     101.2  67.3   \n",
      "1    Passenger               28.4         3.2        225     108.1  70.3   \n",
      "2    Passenger                  .         3.2        225     106.9  70.6   \n",
      "3    Passenger                 42         3.5        210     114.6  71.4   \n",
      "4    Passenger              23.99         1.8        150     102.6  68.2   \n",
      "\n",
      "  Length Curb weight Fuel capacity Fuel efficiency Latest Launch  \n",
      "0  172.4       2.639          13.2              28      2-Feb-14  \n",
      "1  192.9       3.517          17.2              25      6-Mar-15  \n",
      "2    192        3.47          17.2              26      1-Apr-14  \n",
      "3  196.6        3.85            18              22      3-Oct-15  \n",
      "4    178       2.998          16.4              27     10-Aug-15  \n"
     ]
    }
   ],
   "source": [
    "#1. Read top five values\n",
    "\n",
    "import pandas as pd\n",
    "import matplotlib.pyplot as plt\n",
    "import seaborn as sns\n",
    "\n",
    "import pandas as pd\n",
    "df = pd.read_csv(\"Car_sales.csv\")\n",
    "print(\"Top 5 rows:\")\n",
    "print(df.head())"
   ]
  },
  {
   "cell_type": "code",
   "execution_count": 3,
   "id": "d1cbc76f",
   "metadata": {},
   "outputs": [
    {
     "name": "stdout",
     "output_type": "stream",
     "text": [
      "\n",
      "Dataframe Info:\n",
      "<class 'pandas.core.frame.DataFrame'>\n",
      "RangeIndex: 157 entries, 0 to 156\n",
      "Data columns (total 15 columns):\n",
      " #   Column               Non-Null Count  Dtype  \n",
      "---  ------               --------------  -----  \n",
      " 0   Manufacturer         157 non-null    object \n",
      " 1   Model                157 non-null    object \n",
      " 2   Sales in thousands   157 non-null    float64\n",
      " 3   4-year resale value  157 non-null    object \n",
      " 4   Vehicle type         157 non-null    object \n",
      " 5   Price in thousands   157 non-null    object \n",
      " 6   Engine size          157 non-null    object \n",
      " 7   Horsepower           157 non-null    object \n",
      " 8   Wheelbase            157 non-null    object \n",
      " 9   Width                157 non-null    object \n",
      " 10  Length               157 non-null    object \n",
      " 11  Curb weight          157 non-null    object \n",
      " 12  Fuel capacity        157 non-null    object \n",
      " 13  Fuel efficiency      157 non-null    object \n",
      " 14  Latest Launch        157 non-null    object \n",
      "dtypes: float64(1), object(14)\n",
      "memory usage: 18.5+ KB\n"
     ]
    }
   ],
   "source": [
    "#2. Print dataframe info_data types of each column\n",
    "\n",
    "print(\"\\nDataframe Info:\")\n",
    "df.info()"
   ]
  },
  {
   "cell_type": "code",
   "execution_count": 4,
   "id": "753a61ba",
   "metadata": {},
   "outputs": [
    {
     "name": "stdout",
     "output_type": "stream",
     "text": [
      "\n",
      "shape (rows, columns):{df : shape}\n",
      "157\n",
      "15\n"
     ]
    }
   ],
   "source": [
    "#3. Print number of rows and columns\n",
    "\n",
    "print(\"\\nshape (rows, columns):{df : shape}\")\n",
    "print(df.shape[0])\n",
    "print(df.shape[1])"
   ]
  },
  {
   "cell_type": "code",
   "execution_count": 5,
   "id": "7022cbc3",
   "metadata": {},
   "outputs": [],
   "source": [
    "#4. Drop duplicate rows_if any\n",
    "\n",
    "df = df.drop_duplicates()"
   ]
  },
  {
   "cell_type": "code",
   "execution_count": 6,
   "id": "5fef290c",
   "metadata": {},
   "outputs": [
    {
     "name": "stdout",
     "output_type": "stream",
     "text": [
      "\n",
      "Shape after dropping duplicates: (157, 15)\n"
     ]
    },
    {
     "ename": "TypeError",
     "evalue": "'DataFrame' object is not callable",
     "output_type": "error",
     "traceback": [
      "\u001b[0;31m---------------------------------------------------------------------------\u001b[0m",
      "\u001b[0;31mTypeError\u001b[0m                                 Traceback (most recent call last)",
      "Cell \u001b[0;32mIn[6], line 3\u001b[0m\n\u001b[1;32m      1\u001b[0m \u001b[38;5;66;03m#5. Print number of rows and columns after dropping duplicates\u001b[39;00m\n\u001b[1;32m      2\u001b[0m \u001b[38;5;28mprint\u001b[39m(\u001b[38;5;124mf\u001b[39m\u001b[38;5;124m\"\u001b[39m\u001b[38;5;130;01m\\n\u001b[39;00m\u001b[38;5;124mShape after dropping duplicates: \u001b[39m\u001b[38;5;132;01m{\u001b[39;00mdf\u001b[38;5;241m.\u001b[39mshape\u001b[38;5;132;01m}\u001b[39;00m\u001b[38;5;124m\"\u001b[39m)\n\u001b[0;32m----> 3\u001b[0m \u001b[38;5;28mprint\u001b[39m(df())\n",
      "\u001b[0;31mTypeError\u001b[0m: 'DataFrame' object is not callable"
     ]
    }
   ],
   "source": [
    "#5. Print number of rows and columns after dropping duplicates\n",
    "print(f\"\\nShape after dropping duplicates: {df.shape}\")\n",
    "print(df())\n"
   ]
  },
  {
   "cell_type": "code",
   "execution_count": 7,
   "id": "b4db4cae",
   "metadata": {},
   "outputs": [
    {
     "name": "stdout",
     "output_type": "stream",
     "text": [
      "\n",
      "Summary statistics for numerical variables:\n",
      "       Sales in thousands\n",
      "count          157.000000\n",
      "mean            52.998076\n",
      "std             68.029422\n",
      "min              0.110000\n",
      "25%             14.114000\n",
      "50%             29.450000\n",
      "75%             67.956000\n",
      "max            540.561000\n"
     ]
    }
   ],
   "source": [
    "#6. Print summary statistics for numerical variables\n",
    "\n",
    "print(\"\\nSummary statistics for numerical variables:\")\n",
    "print(df.describe())"
   ]
  },
  {
   "cell_type": "code",
   "execution_count": 8,
   "id": "5d418c13",
   "metadata": {},
   "outputs": [
    {
     "name": "stdout",
     "output_type": "stream",
     "text": [
      "Manufacturer           0\n",
      "Model                  0\n",
      "Sales in thousands     0\n",
      "4-year resale value    0\n",
      "Vehicle type           0\n",
      "Price in thousands     0\n",
      "Engine size            0\n",
      "Horsepower             0\n",
      "Wheelbase              0\n",
      "Width                  0\n",
      "Length                 0\n",
      "Curb weight            0\n",
      "Fuel capacity          0\n",
      "Fuel efficiency        0\n",
      "Latest Launch          0\n",
      "dtype: int64\n"
     ]
    }
   ],
   "source": [
    "#7. Print number of missing values in each column\n",
    "print(df.isnull().sum())"
   ]
  },
  {
   "cell_type": "code",
   "execution_count": 9,
   "id": "ecaa19fe",
   "metadata": {},
   "outputs": [
    {
     "name": "stdout",
     "output_type": "stream",
     "text": [
      "\n",
      "Dropping column with most missing values: Manufacturer\n"
     ]
    }
   ],
   "source": [
    "#8. Drop the column with most missing values\n",
    "\n",
    "most_missing_col = df.isnull().sum().idxmax()\n",
    "print(f\"\\nDropping column with most missing values: {most_missing_col}\")\n",
    "df.drop(columns=[most_missing_col], inplace=True)"
   ]
  },
  {
   "cell_type": "code",
   "execution_count": 10,
   "id": "6d6fbb47",
   "metadata": {},
   "outputs": [],
   "source": [
    "#9. Drop the rows with categorical missing values\n",
    "\n",
    "categorical_cols = df.select_dtypes(include='object').columns\n",
    "df.dropna(subset = categorical_cols, inplace=True)"
   ]
  },
  {
   "cell_type": "code",
   "execution_count": 11,
   "id": "01c79b87",
   "metadata": {},
   "outputs": [],
   "source": [
    "#10. Import the rows with numerical missing values\n",
    "\n",
    "numerical_cols = df.select_dtypes(include=['float64', 'int64']).columns\n",
    "df[numerical_cols] = df[numerical_cols].fillna(df[numerical_cols].mean())\n"
   ]
  },
  {
   "cell_type": "code",
   "execution_count": 12,
   "id": "2e0028ab",
   "metadata": {},
   "outputs": [
    {
     "ename": "KeyError",
     "evalue": "'Price'",
     "output_type": "error",
     "traceback": [
      "\u001b[0;31m---------------------------------------------------------------------------\u001b[0m",
      "\u001b[0;31mKeyError\u001b[0m                                  Traceback (most recent call last)",
      "Cell \u001b[0;32mIn[12], line 3\u001b[0m\n\u001b[1;32m      1\u001b[0m \u001b[38;5;66;03m#11. Sort the data w.r.t price_find the details of the most and the least expensive cars\u001b[39;00m\n\u001b[0;32m----> 3\u001b[0m df_sorted \u001b[38;5;241m=\u001b[39m df\u001b[38;5;241m.\u001b[39msort_values(by\u001b[38;5;241m=\u001b[39m\u001b[38;5;124m\"\u001b[39m\u001b[38;5;124mPrice\u001b[39m\u001b[38;5;124m\"\u001b[39m, ascending\u001b[38;5;241m=\u001b[39m\u001b[38;5;28;01mTrue\u001b[39;00m)\n\u001b[1;32m      4\u001b[0m \u001b[38;5;28mprint\u001b[39m(\u001b[38;5;124m\"\u001b[39m\u001b[38;5;130;01m\\n\u001b[39;00m\u001b[38;5;124mLeast expensive car:\u001b[39m\u001b[38;5;124m\"\u001b[39m)\n\u001b[1;32m      5\u001b[0m \u001b[38;5;28mprint\u001b[39m(df_sorted\u001b[38;5;241m.\u001b[39mhead(\u001b[38;5;241m1\u001b[39m))\n",
      "File \u001b[0;32m~/anaconda3/lib/python3.11/site-packages/pandas/util/_decorators.py:331\u001b[0m, in \u001b[0;36mdeprecate_nonkeyword_arguments.<locals>.decorate.<locals>.wrapper\u001b[0;34m(*args, **kwargs)\u001b[0m\n\u001b[1;32m    325\u001b[0m \u001b[38;5;28;01mif\u001b[39;00m \u001b[38;5;28mlen\u001b[39m(args) \u001b[38;5;241m>\u001b[39m num_allow_args:\n\u001b[1;32m    326\u001b[0m     warnings\u001b[38;5;241m.\u001b[39mwarn(\n\u001b[1;32m    327\u001b[0m         msg\u001b[38;5;241m.\u001b[39mformat(arguments\u001b[38;5;241m=\u001b[39m_format_argument_list(allow_args)),\n\u001b[1;32m    328\u001b[0m         \u001b[38;5;167;01mFutureWarning\u001b[39;00m,\n\u001b[1;32m    329\u001b[0m         stacklevel\u001b[38;5;241m=\u001b[39mfind_stack_level(),\n\u001b[1;32m    330\u001b[0m     )\n\u001b[0;32m--> 331\u001b[0m \u001b[38;5;28;01mreturn\u001b[39;00m func(\u001b[38;5;241m*\u001b[39margs, \u001b[38;5;241m*\u001b[39m\u001b[38;5;241m*\u001b[39mkwargs)\n",
      "File \u001b[0;32m~/anaconda3/lib/python3.11/site-packages/pandas/core/frame.py:6912\u001b[0m, in \u001b[0;36mDataFrame.sort_values\u001b[0;34m(self, by, axis, ascending, inplace, kind, na_position, ignore_index, key)\u001b[0m\n\u001b[1;32m   6908\u001b[0m \u001b[38;5;28;01melif\u001b[39;00m \u001b[38;5;28mlen\u001b[39m(by):\n\u001b[1;32m   6909\u001b[0m     \u001b[38;5;66;03m# len(by) == 1\u001b[39;00m\n\u001b[1;32m   6911\u001b[0m     by \u001b[38;5;241m=\u001b[39m by[\u001b[38;5;241m0\u001b[39m]\n\u001b[0;32m-> 6912\u001b[0m     k \u001b[38;5;241m=\u001b[39m \u001b[38;5;28mself\u001b[39m\u001b[38;5;241m.\u001b[39m_get_label_or_level_values(by, axis\u001b[38;5;241m=\u001b[39maxis)\n\u001b[1;32m   6914\u001b[0m     \u001b[38;5;66;03m# need to rewrap column in Series to apply key function\u001b[39;00m\n\u001b[1;32m   6915\u001b[0m     \u001b[38;5;28;01mif\u001b[39;00m key \u001b[38;5;129;01mis\u001b[39;00m \u001b[38;5;129;01mnot\u001b[39;00m \u001b[38;5;28;01mNone\u001b[39;00m:\n\u001b[1;32m   6916\u001b[0m         \u001b[38;5;66;03m# error: Incompatible types in assignment (expression has type\u001b[39;00m\n\u001b[1;32m   6917\u001b[0m         \u001b[38;5;66;03m# \"Series\", variable has type \"ndarray\")\u001b[39;00m\n",
      "File \u001b[0;32m~/anaconda3/lib/python3.11/site-packages/pandas/core/generic.py:1850\u001b[0m, in \u001b[0;36mNDFrame._get_label_or_level_values\u001b[0;34m(self, key, axis)\u001b[0m\n\u001b[1;32m   1844\u001b[0m     values \u001b[38;5;241m=\u001b[39m (\n\u001b[1;32m   1845\u001b[0m         \u001b[38;5;28mself\u001b[39m\u001b[38;5;241m.\u001b[39maxes[axis]\n\u001b[1;32m   1846\u001b[0m         \u001b[38;5;241m.\u001b[39mget_level_values(key)  \u001b[38;5;66;03m# type: ignore[assignment]\u001b[39;00m\n\u001b[1;32m   1847\u001b[0m         \u001b[38;5;241m.\u001b[39m_values\n\u001b[1;32m   1848\u001b[0m     )\n\u001b[1;32m   1849\u001b[0m \u001b[38;5;28;01melse\u001b[39;00m:\n\u001b[0;32m-> 1850\u001b[0m     \u001b[38;5;28;01mraise\u001b[39;00m \u001b[38;5;167;01mKeyError\u001b[39;00m(key)\n\u001b[1;32m   1852\u001b[0m \u001b[38;5;66;03m# Check for duplicates\u001b[39;00m\n\u001b[1;32m   1853\u001b[0m \u001b[38;5;28;01mif\u001b[39;00m values\u001b[38;5;241m.\u001b[39mndim \u001b[38;5;241m>\u001b[39m \u001b[38;5;241m1\u001b[39m:\n",
      "\u001b[0;31mKeyError\u001b[0m: 'Price'"
     ]
    }
   ],
   "source": [
    "#11. Sort the data w.r.t price_find the details of the most and the least expensive cars\n",
    "\n",
    "df_sorted = df.sort_values(by=\"Price\", ascending=True)\n",
    "print(\"\\nLeast expensive car:\")\n",
    "print(df_sorted.head(1))\n",
    "print(\"\\nMost expensive car:\")\n",
    "print(df_sorted.tail(1))"
   ]
  },
  {
   "cell_type": "code",
   "execution_count": null,
   "id": "77bc5849",
   "metadata": {},
   "outputs": [],
   "source": [
    "#12. Write a function to find min and max values of any column\n",
    "\n",
    "def find_min_max(column):\n",
    "    return df[column].min(),df[column].max()"
   ]
  },
  {
   "cell_type": "code",
   "execution_count": null,
   "id": "512566fe",
   "metadata": {},
   "outputs": [],
   "source": [
    "#13. Call the above function to find min max of horse power, length, fuel efficiency\n",
    "\n",
    "for col in ['Horsepower', 'Length', 'Fuel_efficiency']:\n",
    "    if col in df.columns:\n",
    "        min_val, max_val = find_min_max(col)\n",
    "        print(f\"{col}: Min = {min_val}, Max = {max_val}\")"
   ]
  },
  {
   "cell_type": "code",
   "execution_count": null,
   "id": "d649f4ca",
   "metadata": {},
   "outputs": [],
   "source": [
    "#14. Plot histogram of continuous numerical variable : price,sales,hour sepower,fuelefficiency\n",
    "\n",
    "for col in df.columns:\n",
    "    if col in df.columns:\n",
    "        plt.figure(figsize=(6,4))\n",
    "        plt.hist(df[col], bins=20, color='skyblue', edgecolor='black')\n",
    "        plt.title(f'Histogram of {col}')\n",
    "        plt.xlabel(col)\n",
    "        plt.ylabel(\"Frequency\")\n",
    "        plt.show()"
   ]
  },
  {
   "cell_type": "code",
   "execution_count": null,
   "id": "35da24ca",
   "metadata": {},
   "outputs": [],
   "source": [
    "#15. Probability density distribution of continuous numerical variable-length\n",
    "\n",
    "import seaborn as sns\n",
    "\n",
    "if 'Length' in df.columns:\n",
    "    plt.figure(figsize=(6,4))\n",
    "    sns.kdeplot(df['Length'], shade=True, color='green')\n",
    "    plt.title(\"PDF of length\")\n",
    "    plt.xlabel(\"Length\")\n",
    "    plt.show()"
   ]
  },
  {
   "cell_type": "code",
   "execution_count": 13,
   "id": "9f752348",
   "metadata": {},
   "outputs": [],
   "source": [
    "#16. Count by category –group by manufacture\n",
    "\n",
    "if 'Manufacturer' in df.columns:\n",
    "    print(df['Manufacturer'].value_consts())"
   ]
  },
  {
   "cell_type": "code",
   "execution_count": 14,
   "id": "d8a12e72",
   "metadata": {},
   "outputs": [
    {
     "name": "stdout",
     "output_type": "stream",
     "text": [
      "Numerical variable:\n",
      " ['Sales in thousands']\n"
     ]
    }
   ],
   "source": [
    "#17. Select all numerical variables\n",
    "\n",
    "numerical_var = df.select_dtypes(include=['float64', 'int64'])\n",
    "print(\"Numerical variable:\\n\", numerical_var.columns.tolist())"
   ]
  },
  {
   "cell_type": "code",
   "execution_count": 15,
   "id": "86f55811",
   "metadata": {},
   "outputs": [],
   "source": [
    "#18. Print correlation coefficient value of price and sales\n",
    "\n",
    "if 'Price' in df.columns and 'Sales' in df.columns:\n",
    "    corr_val = df['Price'].corr(df['Sales'])\n",
    "    print(f\"Correlation between Price and Sales: {corr_val:.2f}\")"
   ]
  },
  {
   "cell_type": "code",
   "execution_count": 16,
   "id": "cc12bcb1",
   "metadata": {},
   "outputs": [],
   "source": [
    "#19. Plot correlation of price and sales using scatterplot\n",
    "\n",
    "if 'Price' in df.columns and 'Sales' in df.columns:\n",
    "    plt.figure(figsize=(6,4))\n",
    "    sns.scatterplot(x='Price', y='Sales', data=df)\n",
    "    plt.title(\"Price vs Sales\")\n",
    "    plt.show()"
   ]
  },
  {
   "cell_type": "code",
   "execution_count": 17,
   "id": "edb4cdce",
   "metadata": {},
   "outputs": [
    {
     "data": {
      "image/png": "[encoded data removed]",
      "text/plain": [
       "<Figure size 250x250 with 2 Axes>"
      ]
     },
     "metadata": {},
     "output_type": "display_data"
    }
   ],
   "source": [
    "#20.Pair plot\n",
    "\n",
    "sns.pairplot(numerical_var)\n",
    "plt.show()"
   ]
  },
  {
   "cell_type": "code",
   "execution_count": 21,
   "id": "05b56a19",
   "metadata": {},
   "outputs": [],
   "source": [
    "#21. Boxplot of sales of different manufacturer\n",
    "\n",
    "if 'Manufacturer' in df.columns and 'Sales' in df.columns:\n",
    "    plt.figure(figsize=(10,6))\n",
    "    sns.boxplot(x='Manufacturer', u='Sales', data=df)\n",
    "    plt.title(\"Boxplot of Sales by Manufacturer\")\n",
    "    plt.xticks(rotation=45)\n",
    "    plt.tight_layout()\n",
    "    plt.show()"
   ]
  },
  {
   "cell_type": "code",
   "execution_count": 24,
   "id": "d9b75dac",
   "metadata": {},
   "outputs": [
    {
     "ename": "ValueError",
     "evalue": "Could not interpret input 'Manufacturer'",
     "output_type": "error",
     "traceback": [
      "\u001b[0;31m---------------------------------------------------------------------------\u001b[0m",
      "\u001b[0;31mValueError\u001b[0m                                Traceback (most recent call last)",
      "Cell \u001b[0;32mIn[24], line 8\u001b[0m\n\u001b[1;32m      6\u001b[0m \u001b[38;5;28;01mfor\u001b[39;00m col \u001b[38;5;129;01min\u001b[39;00m num_cols:\n\u001b[1;32m      7\u001b[0m     plt\u001b[38;5;241m.\u001b[39mfigure(figsize\u001b[38;5;241m=\u001b[39m(\u001b[38;5;241m10\u001b[39m,\u001b[38;5;241m6\u001b[39m))\n\u001b[0;32m----> 8\u001b[0m     sns\u001b[38;5;241m.\u001b[39mboxplot(x\u001b[38;5;241m=\u001b[39m\u001b[38;5;124m'\u001b[39m\u001b[38;5;124mManufacturer\u001b[39m\u001b[38;5;124m'\u001b[39m, y\u001b[38;5;241m=\u001b[39mcol, data\u001b[38;5;241m=\u001b[39mdf)\n\u001b[1;32m      9\u001b[0m     plt\u001b[38;5;241m.\u001b[39mtitle(\u001b[38;5;124mf\u001b[39m\u001b[38;5;124m'\u001b[39m\u001b[38;5;124mBoxplot of \u001b[39m\u001b[38;5;132;01m{\u001b[39;00mcol\u001b[38;5;132;01m}\u001b[39;00m\u001b[38;5;124m by Manufacturer\u001b[39m\u001b[38;5;124m'\u001b[39m)\n\u001b[1;32m     10\u001b[0m     plt\u001b[38;5;241m.\u001b[39mxticks(rotation\u001b[38;5;241m=\u001b[39m\u001b[38;5;241m45\u001b[39m)\n",
      "File \u001b[0;32m~/anaconda3/lib/python3.11/site-packages/seaborn/categorical.py:2231\u001b[0m, in \u001b[0;36mboxplot\u001b[0;34m(data, x, y, hue, order, hue_order, orient, color, palette, saturation, width, dodge, fliersize, linewidth, whis, ax, **kwargs)\u001b[0m\n\u001b[1;32m   2224\u001b[0m \u001b[38;5;28;01mdef\u001b[39;00m \u001b[38;5;21mboxplot\u001b[39m(\n\u001b[1;32m   2225\u001b[0m     data\u001b[38;5;241m=\u001b[39m\u001b[38;5;28;01mNone\u001b[39;00m, \u001b[38;5;241m*\u001b[39m, x\u001b[38;5;241m=\u001b[39m\u001b[38;5;28;01mNone\u001b[39;00m, y\u001b[38;5;241m=\u001b[39m\u001b[38;5;28;01mNone\u001b[39;00m, hue\u001b[38;5;241m=\u001b[39m\u001b[38;5;28;01mNone\u001b[39;00m, order\u001b[38;5;241m=\u001b[39m\u001b[38;5;28;01mNone\u001b[39;00m, hue_order\u001b[38;5;241m=\u001b[39m\u001b[38;5;28;01mNone\u001b[39;00m,\n\u001b[1;32m   2226\u001b[0m     orient\u001b[38;5;241m=\u001b[39m\u001b[38;5;28;01mNone\u001b[39;00m, color\u001b[38;5;241m=\u001b[39m\u001b[38;5;28;01mNone\u001b[39;00m, palette\u001b[38;5;241m=\u001b[39m\u001b[38;5;28;01mNone\u001b[39;00m, saturation\u001b[38;5;241m=\u001b[39m\u001b[38;5;241m.75\u001b[39m, width\u001b[38;5;241m=\u001b[39m\u001b[38;5;241m.8\u001b[39m,\n\u001b[1;32m   2227\u001b[0m     dodge\u001b[38;5;241m=\u001b[39m\u001b[38;5;28;01mTrue\u001b[39;00m, fliersize\u001b[38;5;241m=\u001b[39m\u001b[38;5;241m5\u001b[39m, linewidth\u001b[38;5;241m=\u001b[39m\u001b[38;5;28;01mNone\u001b[39;00m, whis\u001b[38;5;241m=\u001b[39m\u001b[38;5;241m1.5\u001b[39m, ax\u001b[38;5;241m=\u001b[39m\u001b[38;5;28;01mNone\u001b[39;00m,\n\u001b[1;32m   2228\u001b[0m     \u001b[38;5;241m*\u001b[39m\u001b[38;5;241m*\u001b[39mkwargs\n\u001b[1;32m   2229\u001b[0m ):\n\u001b[0;32m-> 2231\u001b[0m     plotter \u001b[38;5;241m=\u001b[39m _BoxPlotter(x, y, hue, data, order, hue_order,\n\u001b[1;32m   2232\u001b[0m                           orient, color, palette, saturation,\n\u001b[1;32m   2233\u001b[0m                           width, dodge, fliersize, linewidth)\n\u001b[1;32m   2235\u001b[0m     \u001b[38;5;28;01mif\u001b[39;00m ax \u001b[38;5;129;01mis\u001b[39;00m \u001b[38;5;28;01mNone\u001b[39;00m:\n\u001b[1;32m   2236\u001b[0m         ax \u001b[38;5;241m=\u001b[39m plt\u001b[38;5;241m.\u001b[39mgca()\n",
      "File \u001b[0;32m~/anaconda3/lib/python3.11/site-packages/seaborn/categorical.py:785\u001b[0m, in \u001b[0;36m_BoxPlotter.__init__\u001b[0;34m(self, x, y, hue, data, order, hue_order, orient, color, palette, saturation, width, dodge, fliersize, linewidth)\u001b[0m\n\u001b[1;32m    781\u001b[0m \u001b[38;5;28;01mdef\u001b[39;00m \u001b[38;5;21m__init__\u001b[39m(\u001b[38;5;28mself\u001b[39m, x, y, hue, data, order, hue_order,\n\u001b[1;32m    782\u001b[0m              orient, color, palette, saturation,\n\u001b[1;32m    783\u001b[0m              width, dodge, fliersize, linewidth):\n\u001b[0;32m--> 785\u001b[0m     \u001b[38;5;28mself\u001b[39m\u001b[38;5;241m.\u001b[39mestablish_variables(x, y, hue, data, orient, order, hue_order)\n\u001b[1;32m    786\u001b[0m     \u001b[38;5;28mself\u001b[39m\u001b[38;5;241m.\u001b[39mestablish_colors(color, palette, saturation)\n\u001b[1;32m    788\u001b[0m     \u001b[38;5;28mself\u001b[39m\u001b[38;5;241m.\u001b[39mdodge \u001b[38;5;241m=\u001b[39m dodge\n",
      "File \u001b[0;32m~/anaconda3/lib/python3.11/site-packages/seaborn/categorical.py:541\u001b[0m, in \u001b[0;36m_CategoricalPlotter.establish_variables\u001b[0;34m(self, x, y, hue, data, orient, order, hue_order, units)\u001b[0m\n\u001b[1;32m    539\u001b[0m     \u001b[38;5;28;01mif\u001b[39;00m \u001b[38;5;28misinstance\u001b[39m(var, \u001b[38;5;28mstr\u001b[39m):\n\u001b[1;32m    540\u001b[0m         err \u001b[38;5;241m=\u001b[39m \u001b[38;5;124mf\u001b[39m\u001b[38;5;124m\"\u001b[39m\u001b[38;5;124mCould not interpret input \u001b[39m\u001b[38;5;124m'\u001b[39m\u001b[38;5;132;01m{\u001b[39;00mvar\u001b[38;5;132;01m}\u001b[39;00m\u001b[38;5;124m'\u001b[39m\u001b[38;5;124m\"\u001b[39m\n\u001b[0;32m--> 541\u001b[0m         \u001b[38;5;28;01mraise\u001b[39;00m \u001b[38;5;167;01mValueError\u001b[39;00m(err)\n\u001b[1;32m    543\u001b[0m \u001b[38;5;66;03m# Figure out the plotting orientation\u001b[39;00m\n\u001b[1;32m    544\u001b[0m orient \u001b[38;5;241m=\u001b[39m infer_orient(\n\u001b[1;32m    545\u001b[0m     x, y, orient, require_numeric\u001b[38;5;241m=\u001b[39m\u001b[38;5;28mself\u001b[39m\u001b[38;5;241m.\u001b[39mrequire_numeric\n\u001b[1;32m    546\u001b[0m )\n",
      "\u001b[0;31mValueError\u001b[0m: Could not interpret input 'Manufacturer'"
     ]
    },
    {
     "data": {
      "text/plain": [
       "<Figure size 1000x600 with 0 Axes>"
      ]
     },
     "metadata": {},
     "output_type": "display_data"
    }
   ],
   "source": [
    "#22. Boxplot of other numerical variables w.r.t manufacture\n",
    "\n",
    "import seaborn as sns\n",
    "\n",
    "num_cols = df.select_dtypes(include=['int64', 'float64']).columns.drop('Sales', errors='ignore')\n",
    "for col in num_cols:\n",
    "    plt.figure(figsize=(10,6))\n",
    "    sns.boxplot(x='Manufacturer', y=col, data=df)\n",
    "    plt.title(f'Boxplot of {col} by Manufacturer')\n",
    "    plt.xticks(rotation=45)\n",
    "    plt.tight_layout()\n",
    "    plt.show()"
   ]
  },
  {
   "cell_type": "code",
   "execution_count": 27,
   "id": "29b259f5",
   "metadata": {},
   "outputs": [
    {
     "ename": "KeyError",
     "evalue": "'Sales'",
     "output_type": "error",
     "traceback": [
      "\u001b[0;31m---------------------------------------------------------------------------\u001b[0m",
      "\u001b[0;31mKeyError\u001b[0m                                  Traceback (most recent call last)",
      "File \u001b[0;32m~/anaconda3/lib/python3.11/site-packages/pandas/core/indexes/base.py:3802\u001b[0m, in \u001b[0;36mIndex.get_loc\u001b[0;34m(self, key, method, tolerance)\u001b[0m\n\u001b[1;32m   3801\u001b[0m \u001b[38;5;28;01mtry\u001b[39;00m:\n\u001b[0;32m-> 3802\u001b[0m     \u001b[38;5;28;01mreturn\u001b[39;00m \u001b[38;5;28mself\u001b[39m\u001b[38;5;241m.\u001b[39m_engine\u001b[38;5;241m.\u001b[39mget_loc(casted_key)\n\u001b[1;32m   3803\u001b[0m \u001b[38;5;28;01mexcept\u001b[39;00m \u001b[38;5;167;01mKeyError\u001b[39;00m \u001b[38;5;28;01mas\u001b[39;00m err:\n",
      "File \u001b[0;32m~/anaconda3/lib/python3.11/site-packages/pandas/_libs/index.pyx:138\u001b[0m, in \u001b[0;36mpandas._libs.index.IndexEngine.get_loc\u001b[0;34m()\u001b[0m\n",
      "File \u001b[0;32m~/anaconda3/lib/python3.11/site-packages/pandas/_libs/index.pyx:165\u001b[0m, in \u001b[0;36mpandas._libs.index.IndexEngine.get_loc\u001b[0;34m()\u001b[0m\n",
      "File \u001b[0;32mpandas/_libs/hashtable_class_helper.pxi:5745\u001b[0m, in \u001b[0;36mpandas._libs.hashtable.PyObjectHashTable.get_item\u001b[0;34m()\u001b[0m\n",
      "File \u001b[0;32mpandas/_libs/hashtable_class_helper.pxi:5753\u001b[0m, in \u001b[0;36mpandas._libs.hashtable.PyObjectHashTable.get_item\u001b[0;34m()\u001b[0m\n",
      "\u001b[0;31mKeyError\u001b[0m: 'Sales'",
      "\nThe above exception was the direct cause of the following exception:\n",
      "\u001b[0;31mKeyError\u001b[0m                                  Traceback (most recent call last)",
      "Cell \u001b[0;32mIn[27], line 4\u001b[0m\n\u001b[1;32m      1\u001b[0m \u001b[38;5;66;03m#23. Divide the data into input and output y=sales in thousand, x=all other variables\u001b[39;00m\n\u001b[0;32m----> 4\u001b[0m y \u001b[38;5;241m=\u001b[39m df[\u001b[38;5;124m'\u001b[39m\u001b[38;5;124mSales\u001b[39m\u001b[38;5;124m'\u001b[39m]\n\u001b[1;32m      5\u001b[0m x \u001b[38;5;241m=\u001b[39m df\u001b[38;5;241m.\u001b[39mdrop(\u001b[38;5;124m'\u001b[39m\u001b[38;5;124mSales\u001b[39m\u001b[38;5;124m'\u001b[39m, axis\u001b[38;5;241m=\u001b[39m\u001b[38;5;241m1\u001b[39m)\n",
      "File \u001b[0;32m~/anaconda3/lib/python3.11/site-packages/pandas/core/frame.py:3807\u001b[0m, in \u001b[0;36mDataFrame.__getitem__\u001b[0;34m(self, key)\u001b[0m\n\u001b[1;32m   3805\u001b[0m \u001b[38;5;28;01mif\u001b[39;00m \u001b[38;5;28mself\u001b[39m\u001b[38;5;241m.\u001b[39mcolumns\u001b[38;5;241m.\u001b[39mnlevels \u001b[38;5;241m>\u001b[39m \u001b[38;5;241m1\u001b[39m:\n\u001b[1;32m   3806\u001b[0m     \u001b[38;5;28;01mreturn\u001b[39;00m \u001b[38;5;28mself\u001b[39m\u001b[38;5;241m.\u001b[39m_getitem_multilevel(key)\n\u001b[0;32m-> 3807\u001b[0m indexer \u001b[38;5;241m=\u001b[39m \u001b[38;5;28mself\u001b[39m\u001b[38;5;241m.\u001b[39mcolumns\u001b[38;5;241m.\u001b[39mget_loc(key)\n\u001b[1;32m   3808\u001b[0m \u001b[38;5;28;01mif\u001b[39;00m is_integer(indexer):\n\u001b[1;32m   3809\u001b[0m     indexer \u001b[38;5;241m=\u001b[39m [indexer]\n",
      "File \u001b[0;32m~/anaconda3/lib/python3.11/site-packages/pandas/core/indexes/base.py:3804\u001b[0m, in \u001b[0;36mIndex.get_loc\u001b[0;34m(self, key, method, tolerance)\u001b[0m\n\u001b[1;32m   3802\u001b[0m     \u001b[38;5;28;01mreturn\u001b[39;00m \u001b[38;5;28mself\u001b[39m\u001b[38;5;241m.\u001b[39m_engine\u001b[38;5;241m.\u001b[39mget_loc(casted_key)\n\u001b[1;32m   3803\u001b[0m \u001b[38;5;28;01mexcept\u001b[39;00m \u001b[38;5;167;01mKeyError\u001b[39;00m \u001b[38;5;28;01mas\u001b[39;00m err:\n\u001b[0;32m-> 3804\u001b[0m     \u001b[38;5;28;01mraise\u001b[39;00m \u001b[38;5;167;01mKeyError\u001b[39;00m(key) \u001b[38;5;28;01mfrom\u001b[39;00m \u001b[38;5;21;01merr\u001b[39;00m\n\u001b[1;32m   3805\u001b[0m \u001b[38;5;28;01mexcept\u001b[39;00m \u001b[38;5;167;01mTypeError\u001b[39;00m:\n\u001b[1;32m   3806\u001b[0m     \u001b[38;5;66;03m# If we have a listlike key, _check_indexing_error will raise\u001b[39;00m\n\u001b[1;32m   3807\u001b[0m     \u001b[38;5;66;03m#  InvalidIndexError. Otherwise we fall through and re-raise\u001b[39;00m\n\u001b[1;32m   3808\u001b[0m     \u001b[38;5;66;03m#  the TypeError.\u001b[39;00m\n\u001b[1;32m   3809\u001b[0m     \u001b[38;5;28mself\u001b[39m\u001b[38;5;241m.\u001b[39m_check_indexing_error(key)\n",
      "\u001b[0;31mKeyError\u001b[0m: 'Sales'"
     ]
    }
   ],
   "source": [
    "#23. Divide the data into input and output y=sales in thousand, x=all other variables\n",
    "\n",
    "\n",
    "y = df['Sales']\n",
    "x = df.drop('Sales', axis=1)"
   ]
  },
  {
   "cell_type": "code",
   "execution_count": 28,
   "id": "803e2e2f",
   "metadata": {
    "scrolled": true
   },
   "outputs": [
    {
     "ename": "NameError",
     "evalue": "name 'X' is not defined",
     "output_type": "error",
     "traceback": [
      "\u001b[0;31m---------------------------------------------------------------------------\u001b[0m",
      "\u001b[0;31mNameError\u001b[0m                                 Traceback (most recent call last)",
      "Cell \u001b[0;32mIn[28], line 6\u001b[0m\n\u001b[1;32m      3\u001b[0m \u001b[38;5;28;01mfrom\u001b[39;00m \u001b[38;5;21;01msklearn\u001b[39;00m\u001b[38;5;21;01m.\u001b[39;00m\u001b[38;5;21;01mpreprocessing\u001b[39;00m \u001b[38;5;28;01mimport\u001b[39;00m LabelEncoder\n\u001b[1;32m      5\u001b[0m label_enc \u001b[38;5;241m=\u001b[39m LabelEncoder()\n\u001b[0;32m----> 6\u001b[0m categorical_cols \u001b[38;5;241m=\u001b[39m X\u001b[38;5;241m.\u001b[39mselect_dtypes(include\u001b[38;5;241m=\u001b[39m\u001b[38;5;124m'\u001b[39m\u001b[38;5;124mobject\u001b[39m\u001b[38;5;124m'\u001b[39m)\u001b[38;5;241m.\u001b[39mcolumns\u001b[38;5;241m.\u001b[39mdrop(\u001b[38;5;124m'\u001b[39m\u001b[38;5;124mVehicle_type\u001b[39m\u001b[38;5;124m'\u001b[39m, errors\u001b[38;5;241m=\u001b[39m\u001b[38;5;124m'\u001b[39m\u001b[38;5;124mignore\u001b[39m\u001b[38;5;124m'\u001b[39m)\n\u001b[1;32m      8\u001b[0m \u001b[38;5;28;01mfor\u001b[39;00m col \u001b[38;5;129;01min\u001b[39;00m categorical_cols:\n\u001b[1;32m      9\u001b[0m     X[col] \u001b[38;5;241m=\u001b[39m label_enc\u001b[38;5;241m.\u001b[39mfit_transform(X[col]\u001b[38;5;241m.\u001b[39mastype(\u001b[38;5;28mstr\u001b[39m))\n",
      "\u001b[0;31mNameError\u001b[0m: name 'X' is not defined"
     ]
    }
   ],
   "source": [
    "#24. Encode other categorical variables using label encoder\n",
    "\n",
    "from sklearn.preprocessing import LabelEncoder\n",
    "\n",
    "label_enc = LabelEncoder()\n",
    "categorical_cols = X.select_dtypes(include='object').columns.drop('Vehicle_type', errors='ignore')\n",
    "\n",
    "for col in categorical_cols:\n",
    "    X[col] = label_enc.fit_transform(X[col].astype(str))"
   ]
  },
  {
   "cell_type": "code",
   "execution_count": 29,
   "id": "a7168477",
   "metadata": {},
   "outputs": [
    {
     "ename": "NameError",
     "evalue": "name 'X' is not defined",
     "output_type": "error",
     "traceback": [
      "\u001b[0;31m---------------------------------------------------------------------------\u001b[0m",
      "\u001b[0;31mNameError\u001b[0m                                 Traceback (most recent call last)",
      "Cell \u001b[0;32mIn[29], line 3\u001b[0m\n\u001b[1;32m      1\u001b[0m \u001b[38;5;66;03m#25. Encode categorical variable vehicle type using one-hot encoder\u001b[39;00m\n\u001b[0;32m----> 3\u001b[0m \u001b[38;5;28;01mif\u001b[39;00m \u001b[38;5;124m'\u001b[39m\u001b[38;5;124mVehicle_type\u001b[39m\u001b[38;5;124m'\u001b[39m \u001b[38;5;129;01min\u001b[39;00m X\u001b[38;5;241m.\u001b[39mcolumns:\n\u001b[1;32m      4\u001b[0m     X \u001b[38;5;241m=\u001b[39m pd\u001b[38;5;241m.\u001b[39mget_dummies(X, columns\u001b[38;5;241m=\u001b[39m[\u001b[38;5;124m'\u001b[39m\u001b[38;5;124mVehicle_type\u001b[39m\u001b[38;5;124m'\u001b[39m], drop_first\u001b[38;5;241m=\u001b[39m\u001b[38;5;28;01mTrue\u001b[39;00m)\n",
      "\u001b[0;31mNameError\u001b[0m: name 'X' is not defined"
     ]
    }
   ],
   "source": [
    "#25. Encode categorical variable vehicle type using one-hot encoder\n",
    "\n",
    "if 'Vehicle_type' in X.columns:\n",
    "    X = pd.get_dummies(X, columns=['Vehicle_type'], drop_first=True)"
   ]
  },
  {
   "cell_type": "code",
   "execution_count": 30,
   "id": "5043c3d4",
   "metadata": {},
   "outputs": [
    {
     "ename": "NameError",
     "evalue": "name 'X' is not defined",
     "output_type": "error",
     "traceback": [
      "\u001b[0;31m---------------------------------------------------------------------------\u001b[0m",
      "\u001b[0;31mNameError\u001b[0m                                 Traceback (most recent call last)",
      "Cell \u001b[0;32mIn[30], line 6\u001b[0m\n\u001b[1;32m      1\u001b[0m \u001b[38;5;66;03m#26.Split the data set into train and test set 70% train set 10% test set\u001b[39;00m\n\u001b[1;32m      3\u001b[0m \u001b[38;5;28;01mfrom\u001b[39;00m \u001b[38;5;21;01msklearn\u001b[39;00m\u001b[38;5;21;01m.\u001b[39;00m\u001b[38;5;21;01mmodel_selection\u001b[39;00m \u001b[38;5;28;01mimport\u001b[39;00m train_test_split\n\u001b[1;32m      5\u001b[0m X_train, X_test, y_train, y_test \u001b[38;5;241m=\u001b[39m train_test_split(\n\u001b[0;32m----> 6\u001b[0m     X, y, test_size\u001b[38;5;241m=\u001b[39m\u001b[38;5;241m0.10\u001b[39m, random_state\u001b[38;5;241m=\u001b[39m\u001b[38;5;241m42\u001b[39m\n\u001b[1;32m      7\u001b[0m )\n",
      "\u001b[0;31mNameError\u001b[0m: name 'X' is not defined"
     ]
    }
   ],
   "source": [
    "#26.Split the data set into train and test set 70% train set 10% test set\n",
    "\n",
    "from sklearn.model_selection import train_test_split\n",
    "\n",
    "X_train, X_test, y_train, y_test = train_test_split(\n",
    "    X, y, test_size=0.10, random_state=42\n",
    ")"
   ]
  },
  {
   "cell_type": "code",
   "execution_count": 31,
   "id": "95b2904b",
   "metadata": {},
   "outputs": [
    {
     "ename": "NameError",
     "evalue": "name 'X' is not defined",
     "output_type": "error",
     "traceback": [
      "\u001b[0;31m---------------------------------------------------------------------------\u001b[0m",
      "\u001b[0;31mNameError\u001b[0m                                 Traceback (most recent call last)",
      "Cell \u001b[0;32mIn[31], line 8\u001b[0m\n\u001b[1;32m      5\u001b[0m scaler \u001b[38;5;241m=\u001b[39m StandardScaler()\n\u001b[1;32m      7\u001b[0m \u001b[38;5;66;03m# Get only numerical columns from X\u001b[39;00m\n\u001b[0;32m----> 8\u001b[0m num_cols \u001b[38;5;241m=\u001b[39m X\u001b[38;5;241m.\u001b[39mselect_dtypes(include\u001b[38;5;241m=\u001b[39m[\u001b[38;5;124m'\u001b[39m\u001b[38;5;124mint64\u001b[39m\u001b[38;5;124m'\u001b[39m, \u001b[38;5;124m'\u001b[39m\u001b[38;5;124mfloat64\u001b[39m\u001b[38;5;124m'\u001b[39m])\u001b[38;5;241m.\u001b[39mcolumns\n\u001b[1;32m     10\u001b[0m \u001b[38;5;66;03m# Fit only on training data, transform both train and test\u001b[39;00m\n\u001b[1;32m     11\u001b[0m X_train[num_cols] \u001b[38;5;241m=\u001b[39m scaler\u001b[38;5;241m.\u001b[39mfit_transform(X_train[num_cols])\n",
      "\u001b[0;31mNameError\u001b[0m: name 'X' is not defined"
     ]
    }
   ],
   "source": [
    "#27. Apply feature scaling on numerical variables\n",
    "\n",
    "from sklearn.preprocessing import StandardScaler\n",
    "\n",
    "scaler = StandardScaler()\n",
    "\n",
    "# Get only numerical columns from X\n",
    "num_cols = X.select_dtypes(include=['int64', 'float64']).columns\n",
    "\n",
    "# Fit only on training data, transform both train and test\n",
    "X_train[num_cols] = scaler.fit_transform(X_train[num_cols])\n",
    "X_test[num_cols] = scaler.transform(X_test[num_cols])"
   ]
  },
  {
   "cell_type": "code",
   "execution_count": null,
   "id": "1a43e96d",
   "metadata": {},
   "outputs": [],
   "source": []
  }
 ],
 "metadata": {
  "kernelspec": {
   "display_name": "Python 3 (ipykernel)",
   "language": "python",
   "name": "python3"
  },
  "language_info": {
   "codemirror_mode": {
    "name": "ipython",
    "version": 3
   },
   "file_extension": ".py",
   "mimetype": "text/x-python",
   "name": "python",
   "nbconvert_exporter": "python",
   "pygments_lexer": "ipython3",
   "version": "3.11.3"
  }
 },
 "nbformat": 4,
 "nbformat_minor": 5
}
