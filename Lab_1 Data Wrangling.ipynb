{
 "cells": [
  {
   "cell_type": "code",
   "execution_count": 8,
   "id": "f6eeab29",
   "metadata": {},
   "outputs": [
    {
     "name": "stdout",
     "output_type": "stream",
     "text": [
      "0    10\n",
      "1    20\n",
      "2    30\n",
      "3    40\n",
      "dtype: int64\n"
     ]
    }
   ],
   "source": [
    "import pandas as pd\n",
    "data = [10,20,30,40]\n",
    "v = pd.Series(data)\n",
    "print(v)"
   ]
  },
  {
   "cell_type": "code",
   "execution_count": 9,
   "id": "6b8126b4",
   "metadata": {},
   "outputs": [
    {
     "name": "stdout",
     "output_type": "stream",
     "text": [
      "      Name  Age         City\n",
      "0    Alice   25     New York\n",
      "1      Bob   30  Los Angeles\n",
      "2  Charlie   35      Chicago\n"
     ]
    }
   ],
   "source": [
    "data = {\n",
    "'Name': ['Alice', 'Bob', 'Charlie'],\n",
    "'Age': [25, 30, 35],\n",
    "'City': ['New York', 'Los Angeles', 'Chicago']\n",
    "}\n",
    "df = pd.DataFrame(data)\n",
    "print(df)"
   ]
  },
  {
   "cell_type": "code",
   "execution_count": 10,
   "id": "a9ced08f",
   "metadata": {},
   "outputs": [],
   "source": [
    "df=pd.read_csv('transactions.csv')"
   ]
  },
  {
   "cell_type": "code",
   "execution_count": 11,
   "id": "b7359eb6",
   "metadata": {},
   "outputs": [
    {
     "name": "stdout",
     "output_type": "stream",
     "text": [
      "   TransactionID TransactionDate  UserID  ProductID  Quantity\n",
      "0              1      2010-08-21     7.0          2         1\n",
      "1              2      2011-05-26     3.0          4         1\n",
      "2              3      2011-06-16     3.0          3         1\n",
      "3              4      2012-08-26     1.0          2         3\n",
      "4              5      2013-06-06     2.0          4         1\n",
      "5              6      2013-12-23     2.0          5         6\n",
      "6              7      2013-12-30     3.0          4         1\n",
      "7              8      2014-04-24     NaN          2         3\n",
      "8              9      2015-04-24     7.0          4         3\n",
      "9             10      2016-05-08     3.0          4         4\n"
     ]
    }
   ],
   "source": [
    "import pandas as pd\n",
    "df = pd.read_csv('transactions.csv')\n",
    "print(df.head(10))"
   ]
  },
  {
   "cell_type": "code",
   "execution_count": 12,
   "id": "399b6507",
   "metadata": {},
   "outputs": [
    {
     "name": "stdout",
     "output_type": "stream",
     "text": [
      "<class 'pandas.core.frame.DataFrame'>\n",
      "RangeIndex: 10 entries, 0 to 9\n",
      "Data columns (total 5 columns):\n",
      " #   Column           Non-Null Count  Dtype  \n",
      "---  ------           --------------  -----  \n",
      " 0   TransactionID    10 non-null     int64  \n",
      " 1   TransactionDate  10 non-null     object \n",
      " 2   UserID           9 non-null      float64\n",
      " 3   ProductID        10 non-null     int64  \n",
      " 4   Quantity         10 non-null     int64  \n",
      "dtypes: float64(1), int64(3), object(1)\n",
      "memory usage: 532.0+ bytes\n",
      "None\n"
     ]
    }
   ],
   "source": [
    "print(df.info())"
   ]
  },
  {
   "cell_type": "code",
   "execution_count": 13,
   "id": "0936a371",
   "metadata": {},
   "outputs": [
    {
     "name": "stdout",
     "output_type": "stream",
     "text": [
      "       TransactionID    UserID  ProductID   Quantity\n",
      "count       10.00000  9.000000  10.000000  10.000000\n",
      "mean         5.50000  3.444444   3.400000   2.400000\n",
      "std          3.02765  2.127858   1.074968   1.712698\n",
      "min          1.00000  1.000000   2.000000   1.000000\n",
      "25%          3.25000  2.000000   2.250000   1.000000\n",
      "50%          5.50000  3.000000   4.000000   2.000000\n",
      "75%          7.75000  3.000000   4.000000   3.000000\n",
      "max         10.00000  7.000000   5.000000   6.000000\n"
     ]
    }
   ],
   "source": [
    "print(df.describe())"
   ]
  },
  {
   "cell_type": "code",
   "execution_count": 14,
   "id": "a3173984",
   "metadata": {},
   "outputs": [
    {
     "ename": "KeyError",
     "evalue": "'Name'",
     "output_type": "error",
     "traceback": [
      "\u001b[0;31m---------------------------------------------------------------------------\u001b[0m",
      "\u001b[0;31mKeyError\u001b[0m                                  Traceback (most recent call last)",
      "File \u001b[0;32m~/anaconda3/lib/python3.11/site-packages/pandas/core/indexes/base.py:3802\u001b[0m, in \u001b[0;36mIndex.get_loc\u001b[0;34m(self, key, method, tolerance)\u001b[0m\n\u001b[1;32m   3801\u001b[0m \u001b[38;5;28;01mtry\u001b[39;00m:\n\u001b[0;32m-> 3802\u001b[0m     \u001b[38;5;28;01mreturn\u001b[39;00m \u001b[38;5;28mself\u001b[39m\u001b[38;5;241m.\u001b[39m_engine\u001b[38;5;241m.\u001b[39mget_loc(casted_key)\n\u001b[1;32m   3803\u001b[0m \u001b[38;5;28;01mexcept\u001b[39;00m \u001b[38;5;167;01mKeyError\u001b[39;00m \u001b[38;5;28;01mas\u001b[39;00m err:\n",
      "File \u001b[0;32m~/anaconda3/lib/python3.11/site-packages/pandas/_libs/index.pyx:138\u001b[0m, in \u001b[0;36mpandas._libs.index.IndexEngine.get_loc\u001b[0;34m()\u001b[0m\n",
      "File \u001b[0;32m~/anaconda3/lib/python3.11/site-packages/pandas/_libs/index.pyx:165\u001b[0m, in \u001b[0;36mpandas._libs.index.IndexEngine.get_loc\u001b[0;34m()\u001b[0m\n",
      "File \u001b[0;32mpandas/_libs/hashtable_class_helper.pxi:5745\u001b[0m, in \u001b[0;36mpandas._libs.hashtable.PyObjectHashTable.get_item\u001b[0;34m()\u001b[0m\n",
      "File \u001b[0;32mpandas/_libs/hashtable_class_helper.pxi:5753\u001b[0m, in \u001b[0;36mpandas._libs.hashtable.PyObjectHashTable.get_item\u001b[0;34m()\u001b[0m\n",
      "\u001b[0;31mKeyError\u001b[0m: 'Name'",
      "\nThe above exception was the direct cause of the following exception:\n",
      "\u001b[0;31mKeyError\u001b[0m                                  Traceback (most recent call last)",
      "Cell \u001b[0;32mIn[14], line 1\u001b[0m\n\u001b[0;32m----> 1\u001b[0m \u001b[38;5;28mprint\u001b[39m(df[\u001b[38;5;124m'\u001b[39m\u001b[38;5;124mName\u001b[39m\u001b[38;5;124m'\u001b[39m])\n",
      "File \u001b[0;32m~/anaconda3/lib/python3.11/site-packages/pandas/core/frame.py:3807\u001b[0m, in \u001b[0;36mDataFrame.__getitem__\u001b[0;34m(self, key)\u001b[0m\n\u001b[1;32m   3805\u001b[0m \u001b[38;5;28;01mif\u001b[39;00m \u001b[38;5;28mself\u001b[39m\u001b[38;5;241m.\u001b[39mcolumns\u001b[38;5;241m.\u001b[39mnlevels \u001b[38;5;241m>\u001b[39m \u001b[38;5;241m1\u001b[39m:\n\u001b[1;32m   3806\u001b[0m     \u001b[38;5;28;01mreturn\u001b[39;00m \u001b[38;5;28mself\u001b[39m\u001b[38;5;241m.\u001b[39m_getitem_multilevel(key)\n\u001b[0;32m-> 3807\u001b[0m indexer \u001b[38;5;241m=\u001b[39m \u001b[38;5;28mself\u001b[39m\u001b[38;5;241m.\u001b[39mcolumns\u001b[38;5;241m.\u001b[39mget_loc(key)\n\u001b[1;32m   3808\u001b[0m \u001b[38;5;28;01mif\u001b[39;00m is_integer(indexer):\n\u001b[1;32m   3809\u001b[0m     indexer \u001b[38;5;241m=\u001b[39m [indexer]\n",
      "File \u001b[0;32m~/anaconda3/lib/python3.11/site-packages/pandas/core/indexes/base.py:3804\u001b[0m, in \u001b[0;36mIndex.get_loc\u001b[0;34m(self, key, method, tolerance)\u001b[0m\n\u001b[1;32m   3802\u001b[0m     \u001b[38;5;28;01mreturn\u001b[39;00m \u001b[38;5;28mself\u001b[39m\u001b[38;5;241m.\u001b[39m_engine\u001b[38;5;241m.\u001b[39mget_loc(casted_key)\n\u001b[1;32m   3803\u001b[0m \u001b[38;5;28;01mexcept\u001b[39;00m \u001b[38;5;167;01mKeyError\u001b[39;00m \u001b[38;5;28;01mas\u001b[39;00m err:\n\u001b[0;32m-> 3804\u001b[0m     \u001b[38;5;28;01mraise\u001b[39;00m \u001b[38;5;167;01mKeyError\u001b[39;00m(key) \u001b[38;5;28;01mfrom\u001b[39;00m \u001b[38;5;21;01merr\u001b[39;00m\n\u001b[1;32m   3805\u001b[0m \u001b[38;5;28;01mexcept\u001b[39;00m \u001b[38;5;167;01mTypeError\u001b[39;00m:\n\u001b[1;32m   3806\u001b[0m     \u001b[38;5;66;03m# If we have a listlike key, _check_indexing_error will raise\u001b[39;00m\n\u001b[1;32m   3807\u001b[0m     \u001b[38;5;66;03m#  InvalidIndexError. Otherwise we fall through and re-raise\u001b[39;00m\n\u001b[1;32m   3808\u001b[0m     \u001b[38;5;66;03m#  the TypeError.\u001b[39;00m\n\u001b[1;32m   3809\u001b[0m     \u001b[38;5;28mself\u001b[39m\u001b[38;5;241m.\u001b[39m_check_indexing_error(key)\n",
      "\u001b[0;31mKeyError\u001b[0m: 'Name'"
     ]
    }
   ],
   "source": [
    "print(df['Name'])"
   ]
  },
  {
   "cell_type": "code",
   "execution_count": null,
   "id": "94fbe49c",
   "metadata": {},
   "outputs": [],
   "source": [
    "print(df[['Name', 'City']])"
   ]
  },
  {
   "cell_type": "code",
   "execution_count": 15,
   "id": "3c0ca11a",
   "metadata": {},
   "outputs": [
    {
     "name": "stdout",
     "output_type": "stream",
     "text": [
      "TransactionID               2\n",
      "TransactionDate    2011-05-26\n",
      "UserID                    3.0\n",
      "ProductID                   4\n",
      "Quantity                    1\n",
      "Name: 1, dtype: object\n"
     ]
    }
   ],
   "source": [
    "print(df.iloc[1])"
   ]
  },
  {
   "cell_type": "code",
   "execution_count": 16,
   "id": "9ec5bf27",
   "metadata": {},
   "outputs": [
    {
     "ename": "KeyError",
     "evalue": "'Age'",
     "output_type": "error",
     "traceback": [
      "\u001b[0;31m---------------------------------------------------------------------------\u001b[0m",
      "\u001b[0;31mKeyError\u001b[0m                                  Traceback (most recent call last)",
      "File \u001b[0;32m~/anaconda3/lib/python3.11/site-packages/pandas/core/indexes/base.py:3802\u001b[0m, in \u001b[0;36mIndex.get_loc\u001b[0;34m(self, key, method, tolerance)\u001b[0m\n\u001b[1;32m   3801\u001b[0m \u001b[38;5;28;01mtry\u001b[39;00m:\n\u001b[0;32m-> 3802\u001b[0m     \u001b[38;5;28;01mreturn\u001b[39;00m \u001b[38;5;28mself\u001b[39m\u001b[38;5;241m.\u001b[39m_engine\u001b[38;5;241m.\u001b[39mget_loc(casted_key)\n\u001b[1;32m   3803\u001b[0m \u001b[38;5;28;01mexcept\u001b[39;00m \u001b[38;5;167;01mKeyError\u001b[39;00m \u001b[38;5;28;01mas\u001b[39;00m err:\n",
      "File \u001b[0;32m~/anaconda3/lib/python3.11/site-packages/pandas/_libs/index.pyx:138\u001b[0m, in \u001b[0;36mpandas._libs.index.IndexEngine.get_loc\u001b[0;34m()\u001b[0m\n",
      "File \u001b[0;32m~/anaconda3/lib/python3.11/site-packages/pandas/_libs/index.pyx:165\u001b[0m, in \u001b[0;36mpandas._libs.index.IndexEngine.get_loc\u001b[0;34m()\u001b[0m\n",
      "File \u001b[0;32mpandas/_libs/hashtable_class_helper.pxi:5745\u001b[0m, in \u001b[0;36mpandas._libs.hashtable.PyObjectHashTable.get_item\u001b[0;34m()\u001b[0m\n",
      "File \u001b[0;32mpandas/_libs/hashtable_class_helper.pxi:5753\u001b[0m, in \u001b[0;36mpandas._libs.hashtable.PyObjectHashTable.get_item\u001b[0;34m()\u001b[0m\n",
      "\u001b[0;31mKeyError\u001b[0m: 'Age'",
      "\nThe above exception was the direct cause of the following exception:\n",
      "\u001b[0;31mKeyError\u001b[0m                                  Traceback (most recent call last)",
      "Cell \u001b[0;32mIn[16], line 1\u001b[0m\n\u001b[0;32m----> 1\u001b[0m filtered_df \u001b[38;5;241m=\u001b[39m df[df[\u001b[38;5;124m'\u001b[39m\u001b[38;5;124mAge\u001b[39m\u001b[38;5;124m'\u001b[39m]\u001b[38;5;241m>\u001b[39m\u001b[38;5;241m30\u001b[39m]\n\u001b[1;32m      2\u001b[0m \u001b[38;5;28mprint\u001b[39m(filtered_df)\n",
      "File \u001b[0;32m~/anaconda3/lib/python3.11/site-packages/pandas/core/frame.py:3807\u001b[0m, in \u001b[0;36mDataFrame.__getitem__\u001b[0;34m(self, key)\u001b[0m\n\u001b[1;32m   3805\u001b[0m \u001b[38;5;28;01mif\u001b[39;00m \u001b[38;5;28mself\u001b[39m\u001b[38;5;241m.\u001b[39mcolumns\u001b[38;5;241m.\u001b[39mnlevels \u001b[38;5;241m>\u001b[39m \u001b[38;5;241m1\u001b[39m:\n\u001b[1;32m   3806\u001b[0m     \u001b[38;5;28;01mreturn\u001b[39;00m \u001b[38;5;28mself\u001b[39m\u001b[38;5;241m.\u001b[39m_getitem_multilevel(key)\n\u001b[0;32m-> 3807\u001b[0m indexer \u001b[38;5;241m=\u001b[39m \u001b[38;5;28mself\u001b[39m\u001b[38;5;241m.\u001b[39mcolumns\u001b[38;5;241m.\u001b[39mget_loc(key)\n\u001b[1;32m   3808\u001b[0m \u001b[38;5;28;01mif\u001b[39;00m is_integer(indexer):\n\u001b[1;32m   3809\u001b[0m     indexer \u001b[38;5;241m=\u001b[39m [indexer]\n",
      "File \u001b[0;32m~/anaconda3/lib/python3.11/site-packages/pandas/core/indexes/base.py:3804\u001b[0m, in \u001b[0;36mIndex.get_loc\u001b[0;34m(self, key, method, tolerance)\u001b[0m\n\u001b[1;32m   3802\u001b[0m     \u001b[38;5;28;01mreturn\u001b[39;00m \u001b[38;5;28mself\u001b[39m\u001b[38;5;241m.\u001b[39m_engine\u001b[38;5;241m.\u001b[39mget_loc(casted_key)\n\u001b[1;32m   3803\u001b[0m \u001b[38;5;28;01mexcept\u001b[39;00m \u001b[38;5;167;01mKeyError\u001b[39;00m \u001b[38;5;28;01mas\u001b[39;00m err:\n\u001b[0;32m-> 3804\u001b[0m     \u001b[38;5;28;01mraise\u001b[39;00m \u001b[38;5;167;01mKeyError\u001b[39;00m(key) \u001b[38;5;28;01mfrom\u001b[39;00m \u001b[38;5;21;01merr\u001b[39;00m\n\u001b[1;32m   3805\u001b[0m \u001b[38;5;28;01mexcept\u001b[39;00m \u001b[38;5;167;01mTypeError\u001b[39;00m:\n\u001b[1;32m   3806\u001b[0m     \u001b[38;5;66;03m# If we have a listlike key, _check_indexing_error will raise\u001b[39;00m\n\u001b[1;32m   3807\u001b[0m     \u001b[38;5;66;03m#  InvalidIndexError. Otherwise we fall through and re-raise\u001b[39;00m\n\u001b[1;32m   3808\u001b[0m     \u001b[38;5;66;03m#  the TypeError.\u001b[39;00m\n\u001b[1;32m   3809\u001b[0m     \u001b[38;5;28mself\u001b[39m\u001b[38;5;241m.\u001b[39m_check_indexing_error(key)\n",
      "\u001b[0;31mKeyError\u001b[0m: 'Age'"
     ]
    }
   ],
   "source": [
    "filtered_df = df[df['Age']>30]\n",
    "print(filtered_df)"
   ]
  },
  {
   "cell_type": "code",
   "execution_count": 17,
   "id": "28141dca",
   "metadata": {},
   "outputs": [
    {
     "name": "stdout",
     "output_type": "stream",
     "text": [
      "   TransactionID TransactionDate  UserID  ProductID  Quantity\n",
      "0              1      2010-08-21     7.0          2         1\n",
      "1              2      2011-05-26     3.0          4         1\n",
      "2              3      2011-06-16     3.0          3         1\n",
      "3              4      2012-08-26     1.0          2         3\n",
      "4              5      2013-06-06     2.0          4         1\n",
      "5              6      2013-12-23     2.0          5         6\n",
      "6              7      2013-12-30     3.0          4         1\n",
      "7              8      2014-04-24     NaN          2         3\n",
      "8              9      2015-04-24     7.0          4         3\n",
      "9             10      2016-05-08     3.0          4         4\n"
     ]
    }
   ],
   "source": [
    "df.rename(columns={'Name':'Full Name','Age':'Years'}, inplace=True)\n",
    "print(df)"
   ]
  },
  {
   "cell_type": "code",
   "execution_count": 18,
   "id": "c2b9aef1",
   "metadata": {},
   "outputs": [
    {
     "name": "stdout",
     "output_type": "stream",
     "text": [
      "TransactionID      0\n",
      "TransactionDate    0\n",
      "UserID             1\n",
      "ProductID          0\n",
      "Quantity           0\n",
      "dtype: int64\n"
     ]
    }
   ],
   "source": [
    "print(df.isnull().sum())"
   ]
  },
  {
   "cell_type": "code",
   "execution_count": 19,
   "id": "0ec38727",
   "metadata": {},
   "outputs": [
    {
     "ename": "KeyError",
     "evalue": "'Years'",
     "output_type": "error",
     "traceback": [
      "\u001b[0;31m---------------------------------------------------------------------------\u001b[0m",
      "\u001b[0;31mKeyError\u001b[0m                                  Traceback (most recent call last)",
      "File \u001b[0;32m~/anaconda3/lib/python3.11/site-packages/pandas/core/indexes/base.py:3802\u001b[0m, in \u001b[0;36mIndex.get_loc\u001b[0;34m(self, key, method, tolerance)\u001b[0m\n\u001b[1;32m   3801\u001b[0m \u001b[38;5;28;01mtry\u001b[39;00m:\n\u001b[0;32m-> 3802\u001b[0m     \u001b[38;5;28;01mreturn\u001b[39;00m \u001b[38;5;28mself\u001b[39m\u001b[38;5;241m.\u001b[39m_engine\u001b[38;5;241m.\u001b[39mget_loc(casted_key)\n\u001b[1;32m   3803\u001b[0m \u001b[38;5;28;01mexcept\u001b[39;00m \u001b[38;5;167;01mKeyError\u001b[39;00m \u001b[38;5;28;01mas\u001b[39;00m err:\n",
      "File \u001b[0;32m~/anaconda3/lib/python3.11/site-packages/pandas/_libs/index.pyx:138\u001b[0m, in \u001b[0;36mpandas._libs.index.IndexEngine.get_loc\u001b[0;34m()\u001b[0m\n",
      "File \u001b[0;32m~/anaconda3/lib/python3.11/site-packages/pandas/_libs/index.pyx:165\u001b[0m, in \u001b[0;36mpandas._libs.index.IndexEngine.get_loc\u001b[0;34m()\u001b[0m\n",
      "File \u001b[0;32mpandas/_libs/hashtable_class_helper.pxi:5745\u001b[0m, in \u001b[0;36mpandas._libs.hashtable.PyObjectHashTable.get_item\u001b[0;34m()\u001b[0m\n",
      "File \u001b[0;32mpandas/_libs/hashtable_class_helper.pxi:5753\u001b[0m, in \u001b[0;36mpandas._libs.hashtable.PyObjectHashTable.get_item\u001b[0;34m()\u001b[0m\n",
      "\u001b[0;31mKeyError\u001b[0m: 'Years'",
      "\nThe above exception was the direct cause of the following exception:\n",
      "\u001b[0;31mKeyError\u001b[0m                                  Traceback (most recent call last)",
      "Cell \u001b[0;32mIn[19], line 1\u001b[0m\n\u001b[0;32m----> 1\u001b[0m df[\u001b[38;5;124m'\u001b[39m\u001b[38;5;124mYears\u001b[39m\u001b[38;5;124m'\u001b[39m]\u001b[38;5;241m.\u001b[39mfillna(df[\u001b[38;5;124m'\u001b[39m\u001b[38;5;124mYears\u001b[39m\u001b[38;5;124m'\u001b[39m]\u001b[38;5;241m.\u001b[39mmean(), inplace\u001b[38;5;241m=\u001b[39m\u001b[38;5;28;01mTrue\u001b[39;00m)\n",
      "File \u001b[0;32m~/anaconda3/lib/python3.11/site-packages/pandas/core/frame.py:3807\u001b[0m, in \u001b[0;36mDataFrame.__getitem__\u001b[0;34m(self, key)\u001b[0m\n\u001b[1;32m   3805\u001b[0m \u001b[38;5;28;01mif\u001b[39;00m \u001b[38;5;28mself\u001b[39m\u001b[38;5;241m.\u001b[39mcolumns\u001b[38;5;241m.\u001b[39mnlevels \u001b[38;5;241m>\u001b[39m \u001b[38;5;241m1\u001b[39m:\n\u001b[1;32m   3806\u001b[0m     \u001b[38;5;28;01mreturn\u001b[39;00m \u001b[38;5;28mself\u001b[39m\u001b[38;5;241m.\u001b[39m_getitem_multilevel(key)\n\u001b[0;32m-> 3807\u001b[0m indexer \u001b[38;5;241m=\u001b[39m \u001b[38;5;28mself\u001b[39m\u001b[38;5;241m.\u001b[39mcolumns\u001b[38;5;241m.\u001b[39mget_loc(key)\n\u001b[1;32m   3808\u001b[0m \u001b[38;5;28;01mif\u001b[39;00m is_integer(indexer):\n\u001b[1;32m   3809\u001b[0m     indexer \u001b[38;5;241m=\u001b[39m [indexer]\n",
      "File \u001b[0;32m~/anaconda3/lib/python3.11/site-packages/pandas/core/indexes/base.py:3804\u001b[0m, in \u001b[0;36mIndex.get_loc\u001b[0;34m(self, key, method, tolerance)\u001b[0m\n\u001b[1;32m   3802\u001b[0m     \u001b[38;5;28;01mreturn\u001b[39;00m \u001b[38;5;28mself\u001b[39m\u001b[38;5;241m.\u001b[39m_engine\u001b[38;5;241m.\u001b[39mget_loc(casted_key)\n\u001b[1;32m   3803\u001b[0m \u001b[38;5;28;01mexcept\u001b[39;00m \u001b[38;5;167;01mKeyError\u001b[39;00m \u001b[38;5;28;01mas\u001b[39;00m err:\n\u001b[0;32m-> 3804\u001b[0m     \u001b[38;5;28;01mraise\u001b[39;00m \u001b[38;5;167;01mKeyError\u001b[39;00m(key) \u001b[38;5;28;01mfrom\u001b[39;00m \u001b[38;5;21;01merr\u001b[39;00m\n\u001b[1;32m   3805\u001b[0m \u001b[38;5;28;01mexcept\u001b[39;00m \u001b[38;5;167;01mTypeError\u001b[39;00m:\n\u001b[1;32m   3806\u001b[0m     \u001b[38;5;66;03m# If we have a listlike key, _check_indexing_error will raise\u001b[39;00m\n\u001b[1;32m   3807\u001b[0m     \u001b[38;5;66;03m#  InvalidIndexError. Otherwise we fall through and re-raise\u001b[39;00m\n\u001b[1;32m   3808\u001b[0m     \u001b[38;5;66;03m#  the TypeError.\u001b[39;00m\n\u001b[1;32m   3809\u001b[0m     \u001b[38;5;28mself\u001b[39m\u001b[38;5;241m.\u001b[39m_check_indexing_error(key)\n",
      "\u001b[0;31mKeyError\u001b[0m: 'Years'"
     ]
    }
   ],
   "source": [
    "df['Years'].fillna(df['Years'].mean(), inplace=True)"
   ]
  },
  {
   "cell_type": "code",
   "execution_count": 20,
   "id": "2114bd83",
   "metadata": {},
   "outputs": [],
   "source": [
    "df.dropna(inplace=True)"
   ]
  },
  {
   "cell_type": "code",
   "execution_count": 21,
   "id": "7696165b",
   "metadata": {},
   "outputs": [
    {
     "name": "stdout",
     "output_type": "stream",
     "text": [
      "   TransactionID TransactionDate  UserID  ProductID  Quantity\n",
      "6              7      2013-12-30     3.0          4         1\n",
      "4              5      2013-06-06     2.0          4         1\n",
      "2              3      2011-06-16     3.0          3         1\n",
      "1              2      2011-05-26     3.0          4         1\n",
      "0              1      2010-08-21     7.0          2         1\n"
     ]
    }
   ],
   "source": [
    "import pandas as pd\n",
    "df = pd.read_csv(\"transactions.csv\")\n",
    "df_sorted =  df.sort_values(by=[\"Quantity\",\"TransactionDate\"], ascending=[True,False])\n",
    "print(df_sorted.head())"
   ]
  },
  {
   "cell_type": "code",
   "execution_count": 22,
   "id": "402fdea2",
   "metadata": {},
   "outputs": [
    {
     "name": "stdout",
     "output_type": "stream",
     "text": [
      "   TransactionID TransactionDate  UserID  ProductID  Quantity\n",
      "3              4      2012-08-26     1.0          2         3\n",
      "5              6      2013-12-23     2.0          5         6\n",
      "7              8      2014-04-24     NaN          2         3\n",
      "8              9      2015-04-24     7.0          4         3\n",
      "9             10      2016-05-08     3.0          4         4\n"
     ]
    }
   ],
   "source": [
    "subset = df[df['Quantity']>1]\n",
    "print(subset)"
   ]
  },
  {
   "cell_type": "code",
   "execution_count": 23,
   "id": "cbd23566",
   "metadata": {},
   "outputs": [
    {
     "name": "stdout",
     "output_type": "stream",
     "text": [
      "   TransactionID TransactionDate  UserID  ProductID  Quantity\n",
      "0              1      2010-08-21     7.0          2         1\n",
      "2              3      2011-06-16     3.0          3         1\n",
      "5              6      2013-12-23     2.0          5         6\n"
     ]
    }
   ],
   "source": [
    "subset_rows = df.iloc[[0,2,5]]\n",
    "print(subset_rows)"
   ]
  },
  {
   "cell_type": "code",
   "execution_count": 24,
   "id": "bbfef89c",
   "metadata": {},
   "outputs": [
    {
     "ename": "ValueError",
     "evalue": "Item wrong length 4 instead of 10.",
     "output_type": "error",
     "traceback": [
      "\u001b[0;31m---------------------------------------------------------------------------\u001b[0m",
      "\u001b[0;31mValueError\u001b[0m                                Traceback (most recent call last)",
      "Cell \u001b[0;32mIn[24], line 2\u001b[0m\n\u001b[1;32m      1\u001b[0m foo \u001b[38;5;241m=\u001b[39m [\u001b[38;5;28;01mTrue\u001b[39;00m,\u001b[38;5;28;01mFalse\u001b[39;00m,\u001b[38;5;28;01mTrue\u001b[39;00m,\u001b[38;5;28;01mFalse\u001b[39;00m]\n\u001b[0;32m----> 2\u001b[0m subset_rows \u001b[38;5;241m=\u001b[39m df[foo]\n\u001b[1;32m      3\u001b[0m \u001b[38;5;28mprint\u001b[39m(subset_rows)\n",
      "File \u001b[0;32m~/anaconda3/lib/python3.11/site-packages/pandas/core/frame.py:3798\u001b[0m, in \u001b[0;36mDataFrame.__getitem__\u001b[0;34m(self, key)\u001b[0m\n\u001b[1;32m   3796\u001b[0m \u001b[38;5;66;03m# Do we have a (boolean) 1d indexer?\u001b[39;00m\n\u001b[1;32m   3797\u001b[0m \u001b[38;5;28;01mif\u001b[39;00m com\u001b[38;5;241m.\u001b[39mis_bool_indexer(key):\n\u001b[0;32m-> 3798\u001b[0m     \u001b[38;5;28;01mreturn\u001b[39;00m \u001b[38;5;28mself\u001b[39m\u001b[38;5;241m.\u001b[39m_getitem_bool_array(key)\n\u001b[1;32m   3800\u001b[0m \u001b[38;5;66;03m# We are left with two options: a single key, and a collection of keys,\u001b[39;00m\n\u001b[1;32m   3801\u001b[0m \u001b[38;5;66;03m# We interpret tuples as collections only for non-MultiIndex\u001b[39;00m\n\u001b[1;32m   3802\u001b[0m is_single_key \u001b[38;5;241m=\u001b[39m \u001b[38;5;28misinstance\u001b[39m(key, \u001b[38;5;28mtuple\u001b[39m) \u001b[38;5;129;01mor\u001b[39;00m \u001b[38;5;129;01mnot\u001b[39;00m is_list_like(key)\n",
      "File \u001b[0;32m~/anaconda3/lib/python3.11/site-packages/pandas/core/frame.py:3845\u001b[0m, in \u001b[0;36mDataFrame._getitem_bool_array\u001b[0;34m(self, key)\u001b[0m\n\u001b[1;32m   3839\u001b[0m     warnings\u001b[38;5;241m.\u001b[39mwarn(\n\u001b[1;32m   3840\u001b[0m         \u001b[38;5;124m\"\u001b[39m\u001b[38;5;124mBoolean Series key will be reindexed to match DataFrame index.\u001b[39m\u001b[38;5;124m\"\u001b[39m,\n\u001b[1;32m   3841\u001b[0m         \u001b[38;5;167;01mUserWarning\u001b[39;00m,\n\u001b[1;32m   3842\u001b[0m         stacklevel\u001b[38;5;241m=\u001b[39mfind_stack_level(),\n\u001b[1;32m   3843\u001b[0m     )\n\u001b[1;32m   3844\u001b[0m \u001b[38;5;28;01melif\u001b[39;00m \u001b[38;5;28mlen\u001b[39m(key) \u001b[38;5;241m!=\u001b[39m \u001b[38;5;28mlen\u001b[39m(\u001b[38;5;28mself\u001b[39m\u001b[38;5;241m.\u001b[39mindex):\n\u001b[0;32m-> 3845\u001b[0m     \u001b[38;5;28;01mraise\u001b[39;00m \u001b[38;5;167;01mValueError\u001b[39;00m(\n\u001b[1;32m   3846\u001b[0m         \u001b[38;5;124mf\u001b[39m\u001b[38;5;124m\"\u001b[39m\u001b[38;5;124mItem wrong length \u001b[39m\u001b[38;5;132;01m{\u001b[39;00m\u001b[38;5;28mlen\u001b[39m(key)\u001b[38;5;132;01m}\u001b[39;00m\u001b[38;5;124m instead of \u001b[39m\u001b[38;5;132;01m{\u001b[39;00m\u001b[38;5;28mlen\u001b[39m(\u001b[38;5;28mself\u001b[39m\u001b[38;5;241m.\u001b[39mindex)\u001b[38;5;132;01m}\u001b[39;00m\u001b[38;5;124m.\u001b[39m\u001b[38;5;124m\"\u001b[39m\n\u001b[1;32m   3847\u001b[0m     )\n\u001b[1;32m   3849\u001b[0m \u001b[38;5;66;03m# check_bool_indexer will throw exception if Series key cannot\u001b[39;00m\n\u001b[1;32m   3850\u001b[0m \u001b[38;5;66;03m# be reindexed to match DataFrame rows\u001b[39;00m\n\u001b[1;32m   3851\u001b[0m key \u001b[38;5;241m=\u001b[39m check_bool_indexer(\u001b[38;5;28mself\u001b[39m\u001b[38;5;241m.\u001b[39mindex, key)\n",
      "\u001b[0;31mValueError\u001b[0m: Item wrong length 4 instead of 10."
     ]
    }
   ],
   "source": [
    "foo = [True,False,True,False]\n",
    "subset_rows = df[foo]\n",
    "print(subset_rows)"
   ]
  },
  {
   "cell_type": "code",
   "execution_count": 25,
   "id": "a7aa171c",
   "metadata": {},
   "outputs": [
    {
     "name": "stdout",
     "output_type": "stream",
     "text": [
      "   TransactionID TransactionDate\n",
      "3              4      2012-08-26\n",
      "5              6      2013-12-23\n",
      "7              8      2014-04-24\n",
      "8              9      2015-04-24\n",
      "9             10      2016-05-08\n"
     ]
    }
   ],
   "source": [
    "#Subset by columns TransactionID and TransactionDate with logical operator\n",
    "\n",
    "subset = df[df['Quantity']>1][['TransactionID','TransactionDate']]\n",
    "print(subset)"
   ]
  },
  {
   "cell_type": "code",
   "execution_count": 26,
   "id": "ab7ef2a9",
   "metadata": {},
   "outputs": [
    {
     "name": "stdout",
     "output_type": "stream",
     "text": [
      "   TransactionID TransactionDate\n",
      "0              1      2010-08-21\n",
      "1              2      2011-05-26\n",
      "2              3      2011-06-16\n",
      "3              4      2012-08-26\n",
      "4              5      2013-06-06\n",
      "5              6      2013-12-23\n",
      "6              7      2013-12-30\n",
      "7              8      2014-04-24\n",
      "8              9      2015-04-24\n",
      "9             10      2016-05-08\n"
     ]
    }
   ],
   "source": [
    "#Subset columns by a variable list of column names\n",
    "\n",
    "columns_to_select = ['TransactionID','TransactionDate']\n",
    "subset_columns = df[columns_to_select]\n",
    "print(subset_columns)"
   ]
  },
  {
   "cell_type": "code",
   "execution_count": 27,
   "id": "c29afda2",
   "metadata": {},
   "outputs": [
    {
     "name": "stdout",
     "output_type": "stream",
     "text": [
      "   TransactionID TransactionDate  UserID\n",
      "0              1      2010-08-21     7.0\n",
      "1              2      2011-05-26     3.0\n",
      "2              3      2011-06-16     3.0\n",
      "3              4      2012-08-26     1.0\n",
      "4              5      2013-06-06     2.0\n",
      "5              6      2013-12-23     2.0\n",
      "6              7      2013-12-30     3.0\n",
      "7              8      2014-04-24     NaN\n",
      "8              9      2015-04-24     7.0\n",
      "9             10      2016-05-08     3.0\n"
     ]
    }
   ],
   "source": [
    "#Subset columns excluding a variable list of column names\n",
    "\n",
    "columns_to_exclude = ['Quantity','ProductID']\n",
    "subset_columns_excluded = df[[col for col in df.columns if col not in columns_to_exclude]]\n",
    "print(subset_columns_excluded)"
   ]
  },
  {
   "cell_type": "code",
   "execution_count": 28,
   "id": "6b4c7014",
   "metadata": {},
   "outputs": [
    {
     "name": "stdout",
     "output_type": "stream",
     "text": [
      "TransactionID               int64\n",
      "TransactionDate    datetime64[ns]\n",
      "UserID                    float64\n",
      "ProductID                   int64\n",
      "Quantity                    int64\n",
      "dtype: object\n"
     ]
    }
   ],
   "source": [
    "#Convert the TransactionDate column to type Date\n",
    "\n",
    "df['TransactionDate'] = pd.to_datetime(df['TransactionDate'])\n",
    "print(df.dtypes)"
   ]
  },
  {
   "cell_type": "code",
   "execution_count": 29,
   "id": "01a64f27",
   "metadata": {},
   "outputs": [
    {
     "name": "stdout",
     "output_type": "stream",
     "text": [
      "   TransactionID TransactionDate  UserID  ProductID  Quantity  Foo\n",
      "0              1      2010-08-21     7.0          2         1  9.0\n",
      "1              2      2011-05-26     3.0          4         1  7.0\n",
      "2              3      2011-06-16     3.0          3         1  6.0\n",
      "3              4      2012-08-26     1.0          2         3  3.0\n",
      "4              5      2013-06-06     2.0          4         1  6.0\n"
     ]
    }
   ],
   "source": [
    "#Insert a new column, Foo = UserID + ProductID\n",
    "\n",
    "df['Foo'] = df['UserID'] + df['ProductID']\n",
    "print(df.head())"
   ]
  },
  {
   "cell_type": "code",
   "execution_count": 30,
   "id": "6f190c8c",
   "metadata": {},
   "outputs": [
    {
     "ename": "NameError",
     "evalue": "name 'new_user_id' is not defined",
     "output_type": "error",
     "traceback": [
      "\u001b[0;31m---------------------------------------------------------------------------\u001b[0m",
      "\u001b[0;31mNameError\u001b[0m                                 Traceback (most recent call last)",
      "Cell \u001b[0;32mIn[30], line 3\u001b[0m\n\u001b[1;32m      1\u001b[0m \u001b[38;5;66;03m#Inserting a New Row\u001b[39;00m\n\u001b[0;32m----> 3\u001b[0m df\u001b[38;5;241m.\u001b[39mloc[\u001b[38;5;28mlen\u001b[39m(df)] \u001b[38;5;241m=\u001b[39m [new_user_id,new_product_id,new_quantity,new_transaction_date]\n",
      "\u001b[0;31mNameError\u001b[0m: name 'new_user_id' is not defined"
     ]
    }
   ],
   "source": [
    "#Inserting a New Row\n",
    "\n",
    "df.loc[len(df)] = [new_user_id,new_product_id,new_quantity,new_transaction_date]"
   ]
  },
  {
   "cell_type": "code",
   "execution_count": 31,
   "id": "9284b9a9",
   "metadata": {},
   "outputs": [
    {
     "ename": "NameError",
     "evalue": "name 'new_quantity_value' is not defined",
     "output_type": "error",
     "traceback": [
      "\u001b[0;31m---------------------------------------------------------------------------\u001b[0m",
      "\u001b[0;31mNameError\u001b[0m                                 Traceback (most recent call last)",
      "Cell \u001b[0;32mIn[31], line 3\u001b[0m\n\u001b[1;32m      1\u001b[0m \u001b[38;5;66;03m#Updating Existing Values\u001b[39;00m\n\u001b[0;32m----> 3\u001b[0m df\u001b[38;5;241m.\u001b[39mloc[df[\u001b[38;5;124m'\u001b[39m\u001b[38;5;124mUserID\u001b[39m\u001b[38;5;124m'\u001b[39m] \u001b[38;5;241m==\u001b[39m \u001b[38;5;241m2\u001b[39m, \u001b[38;5;124m'\u001b[39m\u001b[38;5;124mQuantity\u001b[39m\u001b[38;5;124m'\u001b[39m] \u001b[38;5;241m=\u001b[39m new_quantity_value\n",
      "\u001b[0;31mNameError\u001b[0m: name 'new_quantity_value' is not defined"
     ]
    }
   ],
   "source": [
    "\n",
    "#Updating Existing Values\n",
    "\n",
    "df.loc[df['UserID'] == 2, 'Quantity'] = new_quantity_value"
   ]
  },
  {
   "cell_type": "code",
   "execution_count": 32,
   "id": "f0450402",
   "metadata": {},
   "outputs": [
    {
     "name": "stdout",
     "output_type": "stream",
     "text": [
      "   TransactionID TransactionDate  UserID  ProductID  Quantity   Foo\n",
      "0              1      2010-08-21     7.0          2         1   9.0\n",
      "1              2      2011-05-26     3.0          4         1   7.0\n",
      "2              3      2011-06-16     3.0          3         1   6.0\n",
      "3              4      2012-08-26     1.0          2         3   3.0\n",
      "4              5      2013-06-06     2.0          4         1   6.0\n",
      "5              6      2013-12-23     2.0          5         6   7.0\n",
      "6              7      2013-12-30     3.0          4         1   7.0\n",
      "7              8      2014-04-24     NaN          2         3   NaN\n",
      "8              9      2015-04-24     7.0          4         3  11.0\n",
      "9             10      2016-05-08     3.0          4         4   7.0\n"
     ]
    }
   ],
   "source": [
    "#Inserting a New Column\n",
    "\n",
    "df['Foo'] = df['UserID'] + df['ProductID']\n",
    "print(df)"
   ]
  },
  {
   "cell_type": "code",
   "execution_count": 33,
   "id": "01fe5afd",
   "metadata": {},
   "outputs": [
    {
     "name": "stdout",
     "output_type": "stream",
     "text": [
      "   TransactionID TransactionDate  UserID  ProductID  Quantity  Foo  NewColumn\n",
      "0              1      2010-08-21     7.0          2         1  9.0          2\n",
      "1              2      2011-05-26     3.0          4         1  7.0          2\n",
      "2              3      2011-06-16     3.0          3         1  6.0          2\n",
      "3              4      2012-08-26     1.0          2         3  3.0          6\n",
      "4              5      2013-06-06     2.0          4         1  6.0          2\n"
     ]
    }
   ],
   "source": [
    "#Modifying data frames Adding a new column:\n",
    "\n",
    "df['NewColumn'] = df['Quantity']*2\n",
    "print(df.head())"
   ]
  },
  {
   "cell_type": "code",
   "execution_count": 34,
   "id": "95e0b068",
   "metadata": {},
   "outputs": [],
   "source": [
    "#Handling dates Convert the TransactionDate column to datetime\n",
    "\n",
    "df['TransactionDate'] = pd.to_datetime(df['TransactionDate'])"
   ]
  },
  {
   "cell_type": "code",
   "execution_count": 13,
   "id": "71fe41ad",
   "metadata": {},
   "outputs": [],
   "source": [
    "# 1. Import Dataset\n",
    "\n",
    "import pandas as pd\n",
    "transactions = pd.read_csv('transactions.csv')\n"
   ]
  },
  {
   "cell_type": "code",
   "execution_count": 14,
   "id": "61c80f87",
   "metadata": {},
   "outputs": [
    {
     "name": "stdout",
     "output_type": "stream",
     "text": [
      "Number of attributes: 5\n"
     ]
    }
   ],
   "source": [
    "# 2. Print Numbers of Attributes\n",
    "print(\"Number of attributes:\", transactions.shape[1])"
   ]
  },
  {
   "cell_type": "code",
   "execution_count": 15,
   "id": "7282cc5b",
   "metadata": {},
   "outputs": [
    {
     "name": "stdout",
     "output_type": "stream",
     "text": [
      "Number of records: 10\n"
     ]
    }
   ],
   "source": [
    "# 3. Print Numbers of Records\n",
    "print(\"Number of records:\", transactions.shape[0])\n"
   ]
  },
  {
   "cell_type": "code",
   "execution_count": 16,
   "id": "fe80dab7",
   "metadata": {},
   "outputs": [
    {
     "name": "stdout",
     "output_type": "stream",
     "text": [
      "Row names: [0, 1, 2, 3, 4, 5, 6, 7, 8, 9]\n"
     ]
    }
   ],
   "source": [
    "# 4. Get the row names (index)\n",
    "print(\"Row names:\", transactions.index.tolist())\n"
   ]
  },
  {
   "cell_type": "code",
   "execution_count": 17,
   "id": "ebccdfbe",
   "metadata": {},
   "outputs": [
    {
     "name": "stdout",
     "output_type": "stream",
     "text": [
      "Column names: ['TransactionID', 'TransactionDate', 'UserID', 'ProductID', 'Quantity']\n"
     ]
    }
   ],
   "source": [
    "# 5. Get the column names\n",
    "print(\"Column names:\", transactions.columns.tolist())"
   ]
  },
  {
   "cell_type": "code",
   "execution_count": 18,
   "id": "d5f7f4ad",
   "metadata": {},
   "outputs": [
    {
     "name": "stdout",
     "output_type": "stream",
     "text": [
      "   TransactionID TransactionDate  UserID  ProductID  Quantity\n",
      "0              1      2010-08-21     7.0          2         1\n",
      "1              2      2011-05-26     3.0          4         1\n",
      "2              3      2011-06-16     3.0          3         1\n",
      "3              4      2012-08-26     1.0          2         3\n",
      "4              5      2013-06-06     2.0          4         1\n",
      "5              6      2013-12-23     2.0          5         6\n",
      "6              7      2013-12-30     3.0          4         1\n",
      "7              8      2014-04-24     NaN          2         3\n",
      "8              9      2015-04-24     7.0          4         3\n",
      "9             10      2016-05-08     3.0          4         4\n"
     ]
    }
   ],
   "source": [
    "# 6. View top 10 Records\n",
    "print(transactions.head(10))"
   ]
  },
  {
   "cell_type": "code",
   "execution_count": 19,
   "id": "3a22c7dc",
   "metadata": {},
   "outputs": [],
   "source": [
    "# 7. Change the name of column “Quantity” to “Quant”\n",
    "transactions.rename(columns={'Quantity': 'Quant'}, inplace=True)"
   ]
  },
  {
   "cell_type": "code",
   "execution_count": 20,
   "id": "64b17bb5",
   "metadata": {},
   "outputs": [],
   "source": [
    "# 8. Change the name of columns ProductID and UserID to PID and UID respectively\n",
    "transactions.rename(columns={'ProductID': 'PID', 'UserID': 'UID'}, inplace=True)"
   ]
  },
  {
   "cell_type": "code",
   "execution_count": 21,
   "id": "09536315",
   "metadata": {},
   "outputs": [
    {
     "name": "stdout",
     "output_type": "stream",
     "text": [
      "   TransactionID TransactionDate  UID  PID  Quant\n",
      "9             10      2016-05-08  3.0    4      4\n",
      "8              9      2015-04-24  7.0    4      3\n",
      "7              8      2014-04-24  NaN    2      3\n",
      "6              7      2013-12-30  3.0    4      1\n",
      "5              6      2013-12-23  2.0    5      6\n",
      "4              5      2013-06-06  2.0    4      1\n",
      "3              4      2012-08-26  1.0    2      3\n",
      "2              3      2011-06-16  3.0    3      1\n",
      "1              2      2011-05-26  3.0    4      1\n",
      "0              1      2010-08-21  7.0    2      1\n"
     ]
    }
   ],
   "source": [
    "# 9. Order the rows of transactions by TransactionId descending\n",
    "transactions_sorted_desc = transactions.sort_values(by='TransactionID', ascending=False)\n",
    "print(transactions_sorted_desc)"
   ]
  },
  {
   "cell_type": "code",
   "execution_count": 22,
   "id": "a187f2af",
   "metadata": {},
   "outputs": [
    {
     "name": "stdout",
     "output_type": "stream",
     "text": [
      "   TransactionID TransactionDate  UID  PID  Quant\n",
      "6              7      2013-12-30  3.0    4      1\n",
      "4              5      2013-06-06  2.0    4      1\n",
      "2              3      2011-06-16  3.0    3      1\n",
      "1              2      2011-05-26  3.0    4      1\n",
      "0              1      2010-08-21  7.0    2      1\n",
      "8              9      2015-04-24  7.0    4      3\n",
      "7              8      2014-04-24  NaN    2      3\n",
      "3              4      2012-08-26  1.0    2      3\n",
      "9             10      2016-05-08  3.0    4      4\n",
      "5              6      2013-12-23  2.0    5      6\n"
     ]
    }
   ],
   "source": [
    "# 10. Order the rows of transactions by Quantity ascending, TransactionDate descending\n",
    "transactions_sorted = transactions.sort_values(by=['Quant', 'TransactionDate'], ascending=[True, False])\n",
    "print(transactions_sorted)"
   ]
  },
  {
   "cell_type": "code",
   "execution_count": 23,
   "id": "82d149ee",
   "metadata": {},
   "outputs": [
    {
     "name": "stdout",
     "output_type": "stream",
     "text": [
      "   PID  Quant TransactionDate  TransactionID  UID\n",
      "0    2      1      2010-08-21              1  7.0\n",
      "1    4      1      2011-05-26              2  3.0\n",
      "2    3      1      2011-06-16              3  3.0\n",
      "3    2      3      2012-08-26              4  1.0\n",
      "4    4      1      2013-06-06              5  2.0\n"
     ]
    }
   ],
   "source": [
    "# 11. Set the column order of Transactions as ProductID, Quantity, TransactionDate, TransactionID, UserID\n",
    "transactions = transactions[['PID', 'Quant', 'TransactionDate', 'TransactionID', 'UID']]\n",
    "print(transactions.head())"
   ]
  },
  {
   "cell_type": "code",
   "execution_count": 24,
   "id": "d3929962",
   "metadata": {},
   "outputs": [
    {
     "name": "stdout",
     "output_type": "stream",
     "text": [
      "   UID  PID  Quant TransactionDate  TransactionID\n",
      "0  7.0    2      1      2010-08-21              1\n",
      "1  3.0    4      1      2011-05-26              2\n",
      "2  3.0    3      1      2011-06-16              3\n",
      "3  1.0    2      3      2012-08-26              4\n",
      "4  2.0    4      1      2013-06-06              5\n"
     ]
    }
   ],
   "source": [
    "# 12. Make UserID the first column of transactions\n",
    "cols = ['UID'] + [col for col in transactions.columns if col != 'UID']\n",
    "transactions = transactions[cols]\n",
    "print(transactions.head())"
   ]
  },
  {
   "cell_type": "code",
   "execution_count": 25,
   "id": "98c4ef8d",
   "metadata": {},
   "outputs": [
    {
     "name": "stdout",
     "output_type": "stream",
     "text": [
      "Second column array:\n",
      " [2 4 3 2 4 5 4 2 4 4]\n"
     ]
    }
   ],
   "source": [
    "# 13. Extracting arrays from a Data Frame. Get the 2nd column\n",
    "second_col = transactions.iloc[:, 1]\n",
    "print(\"Second column array:\\n\", second_col.values)"
   ]
  },
  {
   "cell_type": "code",
   "execution_count": 26,
   "id": "b49b00be",
   "metadata": {},
   "outputs": [
    {
     "name": "stdout",
     "output_type": "stream",
     "text": [
      "ProductID array: [2 4 3 2 4 5 4 2 4 4]\n"
     ]
    }
   ],
   "source": [
    "# 14. Get the ProductID Array\n",
    "print(\"ProductID array:\", transactions['PID'].values)"
   ]
  },
  {
   "cell_type": "code",
   "execution_count": 27,
   "id": "5ae6d05e",
   "metadata": {},
   "outputs": [
    {
     "name": "stdout",
     "output_type": "stream",
     "text": [
      "ProductID array via variable: [2 4 3 2 4 5 4 2 4 4]\n"
     ]
    }
   ],
   "source": [
    "# 15. Get the ProductId array using the following variable\n",
    "PID_array = transactions['PID'].values\n",
    "print(\"ProductID array via variable:\", PID_array)"
   ]
  },
  {
   "cell_type": "code",
   "execution_count": 28,
   "id": "f148f7c8",
   "metadata": {},
   "outputs": [
    {
     "name": "stdout",
     "output_type": "stream",
     "text": [
      "   UID  PID  Quant TransactionDate  TransactionID\n",
      "0  7.0    2      1      2010-08-21              1\n",
      "2  3.0    3      1      2011-06-16              3\n",
      "5  2.0    5      6      2013-12-23              6\n"
     ]
    }
   ],
   "source": [
    "# 16. Row subsetting, subset rows 1,3 and 6 (0-based indexing)\n",
    "subset_rows = transactions.iloc[[0, 2, 5]]\n",
    "print(subset_rows)"
   ]
  },
  {
   "cell_type": "code",
   "execution_count": 29,
   "id": "2bfa9db6",
   "metadata": {},
   "outputs": [
    {
     "name": "stdout",
     "output_type": "stream",
     "text": [
      "   UID  PID  Quant TransactionDate  TransactionID\n",
      "1  3.0    4      1      2011-05-26              2\n",
      "3  1.0    2      3      2012-08-26              4\n",
      "4  2.0    4      1      2013-06-06              5\n",
      "6  3.0    4      1      2013-12-30              7\n",
      "7  NaN    2      3      2014-04-24              8\n",
      "8  7.0    4      3      2015-04-24              9\n",
      "9  3.0    4      4      2016-05-08             10\n"
     ]
    }
   ],
   "source": [
    "# 17. Subset rows excluding 1,3 and 6\n",
    "subset_exclude = transactions.drop(index=[0, 2, 5])\n",
    "print(subset_exclude)"
   ]
  },
  {
   "cell_type": "code",
   "execution_count": 30,
   "id": "e4540508",
   "metadata": {},
   "outputs": [
    {
     "name": "stdout",
     "output_type": "stream",
     "text": [
      "   UID  PID  Quant TransactionDate  TransactionID\n",
      "0  7.0    2      1      2010-08-21              1\n",
      "1  3.0    4      1      2011-05-26              2\n",
      "2  3.0    3      1      2011-06-16              3\n"
     ]
    }
   ],
   "source": [
    "# 18. Subset the first three rows\n",
    "print(transactions.head(3))"
   ]
  },
  {
   "cell_type": "code",
   "execution_count": 31,
   "id": "901ceadb",
   "metadata": {},
   "outputs": [
    {
     "name": "stdout",
     "output_type": "stream",
     "text": [
      "   UID  PID  Quant TransactionDate  TransactionID\n",
      "8  7.0    4      3      2015-04-24              9\n",
      "9  3.0    4      4      2016-05-08             10\n"
     ]
    }
   ],
   "source": [
    "# 19. Subset the last 2 rows\n",
    "print(transactions.tail(2))"
   ]
  },
  {
   "cell_type": "code",
   "execution_count": 32,
   "id": "e23edd16",
   "metadata": {},
   "outputs": [
    {
     "name": "stdout",
     "output_type": "stream",
     "text": [
      "   UID  PID  Quant TransactionDate  TransactionID\n",
      "0  7.0    2      1      2010-08-21              1\n",
      "1  3.0    4      1      2011-05-26              2\n",
      "2  3.0    3      1      2011-06-16              3\n",
      "3  1.0    2      3      2012-08-26              4\n",
      "4  2.0    4      1      2013-06-06              5\n",
      "5  2.0    5      6      2013-12-23              6\n",
      "6  3.0    4      1      2013-12-30              7\n",
      "7  NaN    2      3      2014-04-24              8\n"
     ]
    }
   ],
   "source": [
    "# 20. Subset rows excluding the last 2 rows\n",
    "print(transactions.iloc[:-2])\n"
   ]
  },
  {
   "cell_type": "code",
   "execution_count": 33,
   "id": "c9a8bda7",
   "metadata": {},
   "outputs": [
    {
     "name": "stdout",
     "output_type": "stream",
     "text": [
      "   UID  PID  Quant TransactionDate  TransactionID\n",
      "3  1.0    2      3      2012-08-26              4\n",
      "4  2.0    4      1      2013-06-06              5\n",
      "5  2.0    5      6      2013-12-23              6\n",
      "6  3.0    4      1      2013-12-30              7\n",
      "7  NaN    2      3      2014-04-24              8\n",
      "8  7.0    4      3      2015-04-24              9\n",
      "9  3.0    4      4      2016-05-08             10\n"
     ]
    }
   ],
   "source": [
    "# 21. Subset rows excluding the first 3 rows\n",
    "print(transactions.iloc[3:])\n"
   ]
  },
  {
   "cell_type": "code",
   "execution_count": 34,
   "id": "be0da780",
   "metadata": {},
   "outputs": [
    {
     "name": "stdout",
     "output_type": "stream",
     "text": [
      "   UID  PID  Quant TransactionDate  TransactionID\n",
      "3  1.0    2      3      2012-08-26              4\n",
      "5  2.0    5      6      2013-12-23              6\n",
      "7  NaN    2      3      2014-04-24              8\n",
      "8  7.0    4      3      2015-04-24              9\n",
      "9  3.0    4      4      2016-05-08             10\n"
     ]
    }
   ],
   "source": [
    "# 22. Subset rows where Quantity > 1\n",
    "print(transactions[transactions['Quant'] > 1])"
   ]
  },
  {
   "cell_type": "code",
   "execution_count": 35,
   "id": "56ba220c",
   "metadata": {},
   "outputs": [
    {
     "name": "stdout",
     "output_type": "stream",
     "text": [
      "   UID  PID  Quant TransactionDate  TransactionID\n",
      "4  2.0    4      1      2013-06-06              5\n",
      "5  2.0    5      6      2013-12-23              6\n"
     ]
    }
   ],
   "source": [
    "# 23. Subset rows where UserID = 2\n",
    "print(transactions[transactions['UID'] == 2])\n"
   ]
  },
  {
   "cell_type": "code",
   "execution_count": 36,
   "id": "d42895c1",
   "metadata": {},
   "outputs": [
    {
     "name": "stdout",
     "output_type": "stream",
     "text": [
      "   UID  PID  Quant TransactionDate  TransactionID\n",
      "5  2.0    5      6      2013-12-23              6\n"
     ]
    }
   ],
   "source": [
    "# 24. Subset rows where Quantity > 1 and UserID = 2\n",
    "print(transactions[(transactions['Quant'] > 1) & (transactions['UID'] == 2)])"
   ]
  },
  {
   "cell_type": "code",
   "execution_count": 37,
   "id": "09e8c9ec",
   "metadata": {},
   "outputs": [
    {
     "name": "stdout",
     "output_type": "stream",
     "text": [
      "   UID  PID  Quant TransactionDate  TransactionID\n",
      "0  7.0    2      1      2010-08-21              1\n",
      "1  3.0    4      1      2011-05-26              2\n",
      "2  3.0    3      1      2011-06-16              3\n",
      "3  1.0    2      3      2012-08-26              4\n",
      "5  2.0    5      6      2013-12-23              6\n",
      "6  3.0    4      1      2013-12-30              7\n",
      "8  7.0    4      3      2015-04-24              9\n",
      "9  3.0    4      4      2016-05-08             10\n"
     ]
    }
   ],
   "source": [
    "# 25. Subset rows where Quantity + UserID is > 3\n",
    "print(transactions[(transactions['Quant'] + transactions['UID']) > 3])"
   ]
  },
  {
   "cell_type": "code",
   "execution_count": 38,
   "id": "38c89bc6",
   "metadata": {},
   "outputs": [
    {
     "name": "stdout",
     "output_type": "stream",
     "text": [
      "   UID  PID  Quant TransactionDate  TransactionID\n",
      "0  7.0    2      1      2010-08-21              1\n",
      "2  3.0    3      1      2011-06-16              3\n",
      "4  2.0    4      1      2013-06-06              5\n",
      "6  3.0    4      1      2013-12-30              7\n",
      "8  7.0    4      3      2015-04-24              9\n"
     ]
    }
   ],
   "source": [
    "# 26. Subset rows where an external array, foo, is True\n",
    "foo = [True, False] * (len(transactions) // 2 + 1)  # Example foo array\n",
    "foo = foo[:len(transactions)]  # Trim to match\n",
    "print(transactions[foo])"
   ]
  },
  {
   "cell_type": "code",
   "execution_count": 39,
   "id": "215d9313",
   "metadata": {},
   "outputs": [
    {
     "name": "stdout",
     "output_type": "stream",
     "text": [
      "   UID  PID  Quant TransactionDate  TransactionID\n",
      "6  3.0    4      1      2013-12-30              7\n",
      "7  NaN    2      3      2014-04-24              8\n",
      "8  7.0    4      3      2015-04-24              9\n",
      "9  3.0    4      4      2016-05-08             10\n"
     ]
    }
   ],
   "source": [
    "# 27. Subset rows where an external array, bar, is positive\n",
    "bar = pd.Series(range(-len(transactions)//2, len(transactions)//2 + 1))  # Example bar array\n",
    "bar = bar[:len(transactions)]  # Trim to match\n",
    "print(transactions[bar > 0])"
   ]
  },
  {
   "cell_type": "code",
   "execution_count": 41,
   "id": "aa303275",
   "metadata": {},
   "outputs": [
    {
     "name": "stdout",
     "output_type": "stream",
     "text": [
      "   PID  Quant TransactionDate\n",
      "0    2      1      2010-08-21\n",
      "1    4      1      2011-05-26\n",
      "2    3      1      2011-06-16\n",
      "3    2      3      2012-08-26\n",
      "4    4      1      2013-06-06\n",
      "5    5      6      2013-12-23\n",
      "6    4      1      2013-12-30\n",
      "7    2      3      2014-04-24\n",
      "8    4      3      2015-04-24\n",
      "9    4      4      2016-05-08\n"
     ]
    }
   ],
   "source": [
    "#Subset columns by a variable list of column names\n",
    "\n",
    "\n",
    "column_list = ['PID', 'Quant', 'TransactionDate']\n",
    "subset_33 = transactions[column_list]\n",
    "print(subset_33)"
   ]
  },
  {
   "cell_type": "code",
   "execution_count": null,
   "id": "ece2787d",
   "metadata": {},
   "outputs": [],
   "source": []
  },
  {
   "cell_type": "code",
   "execution_count": null,
   "id": "02f0ee5b",
   "metadata": {},
   "outputs": [],
   "source": []
  },
  {
   "cell_type": "code",
   "execution_count": null,
   "id": "3e595263",
   "metadata": {},
   "outputs": [],
   "source": []
  },
  {
   "cell_type": "code",
   "execution_count": null,
   "id": "9d3f84b2",
   "metadata": {},
   "outputs": [],
   "source": []
  }
 ],
 "metadata": {
  "kernelspec": {
   "display_name": "Python 3 (ipykernel)",
   "language": "python",
   "name": "python3"
  },
  "language_info": {
   "codemirror_mode": {
    "name": "ipython",
    "version": 3
   },
   "file_extension": ".py",
   "mimetype": "text/x-python",
   "name": "python",
   "nbconvert_exporter": "python",
   "pygments_lexer": "ipython3",
   "version": "3.11.3"
  }
 },
 "nbformat": 4,
 "nbformat_minor": 5
}
